{
 "cells": [
  {
   "cell_type": "code",
   "execution_count": 2,
   "metadata": {},
   "outputs": [],
   "source": [
    "import pandas as pd\n",
    "import matplotlib.pyplot as polt\n",
    "from textblob import TextBlob"
   ]
  },
  {
   "cell_type": "code",
   "execution_count": 16,
   "metadata": {},
   "outputs": [
    {
     "name": "stdout",
     "output_type": "stream",
     "text": [
      "0    Exclusive Goldmovie Gold1st Day 25.25cr2nd Day...\n",
      "1    Really disappointed with GoldMovie 2nd day col...\n",
      "2    Hats off akshaykumar Its a masterpiece. The l...\n",
      "3    Believe me... akshaykumar going to have the sa...\n",
      "4    Hindi Movies USA Gross till 8/17/18 GoldMovie ...\n",
      "Name: text, dtype: object\n"
     ]
    }
   ],
   "source": [
    "# Reading tweets from csv file\n",
    "df = pd.read_csv(\"C:\\\\Users\\\\noopur\\\\Desktop\\\\Seminar\\\\Tweet Sentiment Analysis\\\\gold.csv\",encoding=\"ISO-8859-1\")\n",
    "raw_tweets = df.text\n",
    "print(raw_tweets.head())"
   ]
  },
  {
   "cell_type": "code",
   "execution_count": 17,
   "metadata": {},
   "outputs": [],
   "source": [
    "tweets=[]\n",
    "for tweet in raw_tweets:\n",
    "    # empty dictionary to store required params of a tweet\n",
    "    structured_tweet = {}\n",
    "    # saving text of tweet\n",
    "    structured_tweet['text'] = tweet\n",
    "#    print(structured_tweet)\n",
    "    # saving sentiment of tweet\n",
    "    analysis = TextBlob(tweet)\n",
    "    if analysis.sentiment.polarity > 0:\n",
    "        structured_tweet['sentiment'] = 'positive'\n",
    "        structured_tweet['polarity'] = analysis.sentiment.polarity\n",
    "    elif analysis.sentiment.polarity == 0:\n",
    "        structured_tweet['sentiment'] = 'neutral'\n",
    "        structured_tweet['polarity'] = analysis.sentiment.polarity\n",
    "    else:\n",
    "        structured_tweet['sentiment'] = 'negative'\n",
    "        structured_tweet['polarity'] = analysis.sentiment.polarity\n",
    "    tweets.append(structured_tweet)"
   ]
  },
  {
   "cell_type": "code",
   "execution_count": 18,
   "metadata": {},
   "outputs": [
    {
     "name": "stdout",
     "output_type": "stream",
     "text": [
      "{'text': \"Really disappointed with GoldMovie 2nd day collection I thought this movie will do enter 100cr club in 3 4 day but it has proved me wrong I don't know what happened I have already watched this movie and it's amazing. akshaykumar kagtireema ritesh_sid\", 'sentiment': 'negative', 'polarity': -0.16249999999999998}\n"
     ]
    }
   ],
   "source": [
    "print(tweets[1])\n"
   ]
  },
  {
   "cell_type": "code",
   "execution_count": 19,
   "metadata": {},
   "outputs": [
    {
     "name": "stdout",
     "output_type": "stream",
     "text": [
      "Positive tweet 55.90189064895248 %\n",
      "Negative tweets 5.927439959121104 %\n",
      "Neutral tweets 38.17066939192642 % \n"
     ]
    }
   ],
   "source": [
    "pos_tweets = [x for x in tweets if x['sentiment'] == 'positive']\n",
    "#print(pos_tweets)\n",
    "# % of positive tweets\n",
    "print(\"Positive tweet {} %\".format(100 * len(pos_tweets) / len(tweets)))\n",
    "# Separating negative tweets from tweets\n",
    "neg_tweets = [x for x in tweets if x['sentiment'] == 'negative']\n",
    "# % of negative tweets\n",
    "print(\"Negative tweets {} %\".format(100 * len(neg_tweets) / len(tweets)))\n",
    "# % of neutral tweets\n",
    "print(\"Neutral tweets {} % \".format(100 * (len(tweets) - len(neg_tweets) - len(pos_tweets)) / len(tweets)))"
   ]
  },
  {
   "cell_type": "code",
   "execution_count": 21,
   "metadata": {},
   "outputs": [
    {
     "name": "stdout",
     "output_type": "stream",
     "text": [
      "\n",
      " Positive tweets:\n",
      "['Watched GoldMovie today . What a brilliant performance by akshaykumar . Nailed it . Gold . GoForGold', 'Now watching GoldMovie till intermission its brilliant akshaykumar is superb', 'Watched GoldMovie today . What a brilliant performance by akshaykumar . Nailed it . Gold . GoForGold', 'Now watching GoldMovie till intermission its brilliant akshaykumar is superb', 'Watched GoldMovie today . What a brilliant performance by akshaykumar . Nailed it . Gold . GoForGold']\n",
      "\n",
      " Negative tweets:\n",
      "['The Biggest Joke is SatyamevaJayate tagline is \"Ab Corruption Mitega\" amp; the Joker Producers TSeries are doing Horrible Corruption by inflating BO numbers by paying to Box_Off_India amp; taran_adarsh.. 16 se 18 .. 18 se 20 Gold GoldMovie']\n"
     ]
    }
   ],
   "source": [
    "##printing top 5 positive and negative tweets\n",
    "\n",
    "ptext = []\n",
    "ntext = []\n",
    "\n",
    "for x in tweets:\n",
    "    if x['polarity'] > 0.8:\n",
    "        ptext.append(x['text'])\n",
    "\n",
    "for x in tweets:\n",
    "    if x['polarity'] < -0.7:\n",
    "        ntext.append(x['text'])\n",
    "\n",
    "# printing tweets\n",
    "print(\"\\n Positive tweets:\")\n",
    "print(ptext[:5])\n",
    "\n",
    "print(\"\\n Negative tweets:\")\n",
    "print(ntext[:5])"
   ]
  },
  {
   "cell_type": "code",
   "execution_count": 23,
   "metadata": {},
   "outputs": [
    {
     "ename": "ModuleNotFoundError",
     "evalue": "No module named 'wordcloud'",
     "output_type": "error",
     "traceback": [
      "\u001b[1;31m---------------------------------------------------------------------------\u001b[0m",
      "\u001b[1;31mModuleNotFoundError\u001b[0m                       Traceback (most recent call last)",
      "\u001b[1;32m<ipython-input-23-91079c11264f>\u001b[0m in \u001b[0;36m<module>\u001b[1;34m()\u001b[0m\n\u001b[0;32m      9\u001b[0m \u001b[1;33m\u001b[0m\u001b[0m\n\u001b[0;32m     10\u001b[0m \u001b[0mall_words\u001b[0m \u001b[1;33m=\u001b[0m \u001b[1;34m' '\u001b[0m\u001b[1;33m.\u001b[0m\u001b[0mjoin\u001b[0m\u001b[1;33m(\u001b[0m\u001b[1;33m[\u001b[0m\u001b[0mtext\u001b[0m \u001b[1;32mfor\u001b[0m \u001b[0mtext\u001b[0m \u001b[1;32min\u001b[0m \u001b[0mptext\u001b[0m\u001b[1;33m]\u001b[0m\u001b[1;33m)\u001b[0m\u001b[1;33m\u001b[0m\u001b[0m\n\u001b[1;32m---> 11\u001b[1;33m \u001b[0mprint_worldcloud\u001b[0m\u001b[1;33m(\u001b[0m\u001b[0mall_words\u001b[0m\u001b[1;33m)\u001b[0m\u001b[1;33m\u001b[0m\u001b[0m\n\u001b[0m\u001b[0;32m     12\u001b[0m \u001b[1;33m\u001b[0m\u001b[0m\n\u001b[0;32m     13\u001b[0m \u001b[0mall_words\u001b[0m \u001b[1;33m=\u001b[0m \u001b[1;34m' '\u001b[0m\u001b[1;33m.\u001b[0m\u001b[0mjoin\u001b[0m\u001b[1;33m(\u001b[0m\u001b[1;33m[\u001b[0m\u001b[0mtext\u001b[0m \u001b[1;32mfor\u001b[0m \u001b[0mtext\u001b[0m \u001b[1;32min\u001b[0m \u001b[0mntext\u001b[0m\u001b[1;33m]\u001b[0m\u001b[1;33m)\u001b[0m\u001b[1;33m\u001b[0m\u001b[0m\n",
      "\u001b[1;32m<ipython-input-23-91079c11264f>\u001b[0m in \u001b[0;36mprint_worldcloud\u001b[1;34m(words)\u001b[0m\n\u001b[0;32m      1\u001b[0m \u001b[1;32mdef\u001b[0m \u001b[0mprint_worldcloud\u001b[0m\u001b[1;33m(\u001b[0m\u001b[0mwords\u001b[0m\u001b[1;33m)\u001b[0m\u001b[1;33m:\u001b[0m\u001b[1;33m\u001b[0m\u001b[0m\n\u001b[1;32m----> 2\u001b[1;33m     \u001b[1;32mfrom\u001b[0m \u001b[0mwordcloud\u001b[0m \u001b[1;32mimport\u001b[0m \u001b[0mWordCloud\u001b[0m\u001b[1;33m\u001b[0m\u001b[0m\n\u001b[0m\u001b[0;32m      3\u001b[0m     \u001b[0mword_cloud\u001b[0m \u001b[1;33m=\u001b[0m \u001b[0mWordCloud\u001b[0m\u001b[1;33m(\u001b[0m\u001b[0mwidth\u001b[0m\u001b[1;33m=\u001b[0m\u001b[1;36m800\u001b[0m\u001b[1;33m,\u001b[0m \u001b[0mheight\u001b[0m\u001b[1;33m=\u001b[0m\u001b[1;36m500\u001b[0m\u001b[1;33m,\u001b[0m \u001b[0mrandom_state\u001b[0m\u001b[1;33m=\u001b[0m\u001b[1;36m21\u001b[0m\u001b[1;33m,\u001b[0m \u001b[0mmax_font_size\u001b[0m\u001b[1;33m=\u001b[0m\u001b[1;36m110\u001b[0m\u001b[1;33m)\u001b[0m\u001b[1;33m.\u001b[0m\u001b[0mgenerate\u001b[0m\u001b[1;33m(\u001b[0m\u001b[0mwords\u001b[0m\u001b[1;33m)\u001b[0m\u001b[1;33m\u001b[0m\u001b[0m\n\u001b[0;32m      4\u001b[0m     \u001b[0mpolt\u001b[0m\u001b[1;33m.\u001b[0m\u001b[0mfigure\u001b[0m\u001b[1;33m(\u001b[0m\u001b[0mfigsize\u001b[0m\u001b[1;33m=\u001b[0m\u001b[1;33m(\u001b[0m\u001b[1;36m10\u001b[0m\u001b[1;33m,\u001b[0m \u001b[1;36m7\u001b[0m\u001b[1;33m)\u001b[0m\u001b[1;33m)\u001b[0m\u001b[1;33m\u001b[0m\u001b[0m\n\u001b[0;32m      5\u001b[0m     \u001b[0mpolt\u001b[0m\u001b[1;33m.\u001b[0m\u001b[0mimshow\u001b[0m\u001b[1;33m(\u001b[0m\u001b[0mword_cloud\u001b[0m\u001b[1;33m,\u001b[0m \u001b[0minterpolation\u001b[0m\u001b[1;33m=\u001b[0m\u001b[1;34m\"bilinear\"\u001b[0m\u001b[1;33m)\u001b[0m\u001b[1;33m\u001b[0m\u001b[0m\n",
      "\u001b[1;31mModuleNotFoundError\u001b[0m: No module named 'wordcloud'"
     ]
    }
   ],
   "source": [
    "def print_worldcloud(words):\n",
    "    from wordcloud import WordCloud\n",
    "    word_cloud = WordCloud(width=800, height=500, random_state=21, max_font_size=110).generate(words)\n",
    "    polt.figure(figsize=(10, 7))\n",
    "    polt.imshow(word_cloud, interpolation=\"bilinear\")\n",
    "    polt.axis('off')\n",
    "    polt.show()\n",
    "\n",
    "\n",
    "all_words = ' '.join([text for text in ptext])\n",
    "print_worldcloud(all_words)\n",
    "\n",
    "all_words = ' '.join([text for text in ntext])\n",
    "print_worldcloud(all_words)"
   ]
  },
  {
   "cell_type": "code",
   "execution_count": null,
   "metadata": {},
   "outputs": [],
   "source": []
  }
 ],
 "metadata": {
  "kernelspec": {
   "display_name": "Python 3",
   "language": "python",
   "name": "python3"
  },
  "language_info": {
   "codemirror_mode": {
    "name": "ipython",
    "version": 3
   },
   "file_extension": ".py",
   "mimetype": "text/x-python",
   "name": "python",
   "nbconvert_exporter": "python",
   "pygments_lexer": "ipython3",
   "version": "3.7.0"
  }
 },
 "nbformat": 4,
 "nbformat_minor": 2
}
