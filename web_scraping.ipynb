{
  "nbformat": 4,
  "nbformat_minor": 0,
  "metadata": {
    "colab": {
      "name": "web_scraping_danish.ipynb",
      "version": "0.3.2",
      "provenance": [],
      "include_colab_link": true
    },
    "kernelspec": {
      "name": "python3",
      "display_name": "Python 3"
    }
  },
  "cells": [
    {
      "cell_type": "markdown",
      "metadata": {
        "id": "view-in-github",
        "colab_type": "text"
      },
      "source": [
        "<a href=\"https://colab.research.google.com/github/Noopuragr/Project/blob/master/web_scraping.ipynb\" target=\"_parent\"><img src=\"https://colab.research.google.com/assets/colab-badge.svg\" alt=\"Open In Colab\"/></a>"
      ]
    },
    {
      "metadata": {
        "id": "Y-h5mjqFGVpc",
        "colab_type": "code",
        "colab": {}
      },
      "cell_type": "code",
      "source": [
        "from bs4 import BeautifulSoup\n",
        "import requests\n",
        "import time\n",
        "import pandas as pd\n",
        "import re\n",
        "import pickle\n",
        "import datetime\n",
        "\n",
        "df_date=pd.date_range('2009-01-01','2018-11-28', freq='M')\n",
        "date_range = []\n",
        "for x in df_date:\n",
        "    date_range.append(str(x)[:4]+str(x)[5:7])\n",
        " "
      ],
      "execution_count": 0,
      "outputs": []
    },
    {
      "metadata": {
        "id": "Ndn9PW2kGp40",
        "colab_type": "code",
        "colab": {}
      },
      "cell_type": "code",
      "source": [
        "temp_mean,humidity_mean,dewpoint_mean,barometer_mean,windSpeed_mean,gustSpeed_mean,direction_mean,rainfall_month,rainfall_year,rainfall_minute=[],[],[],[],[],[],[],[],[],[]\n",
        "date_index = []\n",
        "temp_max,temp_min,humidity_max,humidity_min,pressure_max,pressure_min,windspeed_max,gustspeed_max,heatindex_max=[],[],[],[],[],[],[],[],[]\n",
        "clean_data_list=[]\n",
        " #'Average temperature (°F)', 'Average humidity (%)',\n",
        " #'Average dewpoint (°F)', 'Average barometer (in)',\n",
        " #'Average windspeed (mph)', 'Average gustspeed (mph)',\n",
        " #'Average direction (°deg)', 'Rainfall for month (in)',\n",
        " #'Rainfall for year (in)', 'Maximum rain per minute',\n",
        " #'Maximum temperature (°F)', 'Minimum temperature (°F)',\n",
        " #'Maximum humidity (%)', 'Minimum humidity (%)', 'Maximum pressure',\n",
        " #'Minimum pressure', 'Maximum windspeed (mph)',\n",
        " #'Maximum gust speed (mph)', 'Maximum heat index (°F)'\n",
        "    \n",
        "def clean_data_extractor(final_list,month,parameter):\n",
        "    for i in final_list:\n",
        "        daywise_data = []\n",
        "        for item in i:\n",
        "            if item.split(' ')[1] == '29' and parameter[4:6] =='10' and parameter[0:4] == '2018':\n",
        "                return\n",
        "            else:\n",
        "                if item.startswith(month):\n",
        "                    new_ind = ''\n",
        "                    if len(item.split(' ')[1]) == 1:\n",
        "                        new_ind = parameter+'0'+item.split(' ')[1]\n",
        "                    else:\n",
        "                        new_ind = parameter+item.split(' ')[1]\n",
        "                    daywise_data.append(pd.to_datetime(new_ind))\n",
        "                if item.startswith('Average temperature'):\n",
        "                    avg_temp = item.split(' ')[2].replace(\"°F\", \"\")\n",
        "                    daywise_data.append(float(avg_temp))\n",
        "\n",
        "                if item.startswith('Average humidity'):\n",
        "                    avg_humidity = item.split(' ')[2].split('%')[0]\n",
        "                    if avg_humidity ==\"\":\n",
        "                        avg_humidity = 0\n",
        "                    daywise_data.append(float(avg_humidity))\n",
        "\n",
        "                if item.startswith('Average dewpoint'):\n",
        "                    avg_dewpoint = item.split(' ')[2].replace(\"°F\", \"\")\n",
        "                    if avg_dewpoint ==\"\":\n",
        "                        avg_dewpoint = 0\n",
        "                    daywise_data.append(float(avg_dewpoint))\n",
        "\n",
        "                if item.startswith('Average barometer'):\n",
        "                    avg_barometer = item.split(' ')[2]\n",
        "                    daywise_data.append(float(avg_barometer))  \n",
        "\n",
        "                if item.startswith('Average windspeed'):\n",
        "                    avg_windSpeed = item.split(' ')[2]\n",
        "                    daywise_data.append(float(avg_windSpeed))\n",
        "\n",
        "                if item.startswith('Average gustspeed'):\n",
        "                    avg_gustSpeed = item.split(' ')[2]\n",
        "                    daywise_data.append(float(avg_gustSpeed))\n",
        "\n",
        "                if item.startswith('Average direction'):\n",
        "                    if item.split(' ')[2].split('°')[0] == \"\":\n",
        "                        avg_direction = 0\n",
        "                    else:\n",
        "                        avg_direction = item.split(' ')[2].split('°')[0]\n",
        "                    daywise_data.append(float(avg_direction))\n",
        "\n",
        "                if item.startswith('Rainfall for month'):\n",
        "                    rain_forMon = item.split(' ')[3]\n",
        "                    daywise_data.append(float(rain_forMon))\n",
        "\n",
        "                if item.startswith('Rainfall for year'):\n",
        "                    rain_forYear = item.split(' ')[3]\n",
        "                    daywise_data.append(float(rain_forYear))\n",
        "\n",
        "                if item.startswith('Maximum rain per minute'):\n",
        "                    rain_forMin = item.split(' ')[4]\n",
        "                    daywise_data.append(float(rain_forMin))\n",
        "\n",
        "                if item.startswith('Maximum temperature'):\n",
        "                    max_temp = item.split(' ')[2].replace(\"°F\", \"\")\n",
        "                    daywise_data.append(float(max_temp))\n",
        "\n",
        "                if item.startswith('Minimum temperature'):\n",
        "                    min_temp = item.split(' ')[2].replace(\"°F\", \"\")\n",
        "                    daywise_data.append(float(min_temp))\n",
        "\n",
        "                if item.startswith('Maximum humidity'):\n",
        "                    max_humidity = item.split(' ')[2].split('%')[0]\n",
        "                    daywise_data.append(float(max_humidity))\n",
        "\n",
        "                if item.startswith('Minimum humidity'):\n",
        "                    min_humidity = item.split(' ')[2].split('%')[0]\n",
        "                    if min_humidity == \"\":\n",
        "                        min_humidity = 0\n",
        "                    daywise_data.append(float(min_humidity))\n",
        "\n",
        "                if item.startswith('Maximum pressure'):\n",
        "                    max_pre = item.split(' ')[2]\n",
        "                    daywise_data.append(float(max_pre))\n",
        "\n",
        "                if item.startswith('Minimum pressure'):\n",
        "                    min_pres = item.split(' ')[2]\n",
        "                    daywise_data.append(float(min_pres))\n",
        "\n",
        "                if item.startswith('Maximum windspeed'):\n",
        "                    max_windSpeed = item.split(' ')[2]\n",
        "                    daywise_data.append(float(max_windSpeed))\n",
        "\n",
        "                if item.startswith('Maximum gust speed'):\n",
        "                    max_gustSpeed = item.split(' ')[3]\n",
        "                    if max_gustSpeed == \"\":\n",
        "                        max_gustSpeed=0\n",
        "                    daywise_data.append(float(max_gustSpeed))\n",
        "\n",
        "                if item.startswith('Maximum heat index'):\n",
        "                    max_heatIndex = item.split(' ')[3].replace(\"°F\", \"\")\n",
        "                    daywise_data.append(float(max_heatIndex))\n",
        "        clean_data_list.append(daywise_data)\n",
        "    return clean_data_list"
      ],
      "execution_count": 0,
      "outputs": []
    },
    {
      "metadata": {
        "id": "9TqoVBWeHFK0",
        "colab_type": "code",
        "colab": {}
      },
      "cell_type": "code",
      "source": [
        "for val in date_range:\n",
        "        url =\"http://www.estesparkweather.net/archive_reports.php?date=\"+val\n",
        "        resultSet = requests.get(url)\n",
        "        soup = BeautifulSoup(resultSet.content,\"lxml\")\n",
        "        scrapped_data = soup.find_all('table')\n",
        "\n",
        "        web_data = []\n",
        "        data_final = []\n",
        "        month = ['Jan','Feb','Mar','Apr','May','Jun','Jul','Aug','Sep','Oct','Nov','Dec']\n",
        "        month_num = val[4:6]\n",
        "        mon_idx = int(month_num)-1\n",
        "        for i in scrapped_data:\n",
        "            web_data.append(i.text.splitlines())\n",
        "        for x in web_data:\n",
        "            while x.count(''):\n",
        "                  x.remove('')\n",
        "        for x in web_data:           \n",
        "            if x[0].startswith(month[mon_idx]):\n",
        "                data_final.append(x)\n",
        "        #print(final_list)\n",
        "        clean_data_extractor(data_final,month[mon_idx],val)"
      ],
      "execution_count": 0,
      "outputs": []
    },
    {
      "metadata": {
        "id": "UUvZSLdvKKVe",
        "colab_type": "code",
        "colab": {}
      },
      "cell_type": "code",
      "source": [
        "for x in clean_data_list:\n",
        "        #print(records)\n",
        "        date_index.append(x[0])\n",
        "        temp_mean.append(x[1])\n",
        "        humidity_mean.append(x[2])\n",
        "        dewpoint_mean.append(x[3])\n",
        "        barometer_mean.append(x[4])\n",
        "        windSpeed_mean.append(x[5])\n",
        "        gustSpeed_mean.append(x[6])\n",
        "        direction_mean.append(x[7])\n",
        "        rainfall_month.append(x[8])\n",
        "        rainfall_year.append(x[9])\n",
        "        rainfall_minute.append(x[10])\n",
        "        temp_max.append(x[11])\n",
        "        temp_min.append(x[12])\n",
        "        humidity_max.append(x[13])\n",
        "        humidity_min.append(x[14])\n",
        "        pressure_max.append(x[15])\n",
        "        pressure_min.append(x[16])\n",
        "        windspeed_max.append(x[17])\n",
        "        gustspeed_max.append(x[18])\n",
        "        heatindex_max.append(x[19])"
      ],
      "execution_count": 0,
      "outputs": []
    },
    {
      "metadata": {
        "id": "0Q66xnkAN6Dg",
        "colab_type": "code",
        "colab": {}
      },
      "cell_type": "code",
      "source": [
        "pd_final = pd.DataFrame({'Average temperature (°F)':temp_mean,'Average humidity (%)':humidity_mean,'Average dewpoint (°F)':dewpoint_mean,\n",
        "                      'Average barometer (in)':barometer_mean,'Average windspeed (mph)':windSpeed_mean,'Average gustspeed (mph)':gustSpeed_mean,\n",
        "                      'Average direction (°deg)':direction_mean,'Rainfall for month (in)':rainfall_month,'Rainfall for year (in)':rainfall_year,\n",
        "                      'Maximum rain per minute':rainfall_minute,'Maximum temperature (°F)':temp_max,'Minimum temperature (°F)':temp_min,\n",
        "                     'Maximum humidity (%)':humidity_max,'Minimum humidity (%)':humidity_min,'Maximum pressure':pressure_max,\n",
        "                     'Minimum pressure':pressure_min,'Maximum windspeed (mph)':windspeed_max,'Maximum gust speed (mph)':gustspeed_max,\n",
        "                     'Maximum heat index (°F)':heatindex_max},index=date_index)"
      ],
      "execution_count": 0,
      "outputs": []
    },
    {
      "metadata": {
        "id": "Qx9yi9h8Hi0u",
        "colab_type": "code",
        "colab": {}
      },
      "cell_type": "code",
      "source": [
        "with open(\"dataframe.pk\", \"wb\") as file:\n",
        "    pickle.dump(pd_final, file)"
      ],
      "execution_count": 0,
      "outputs": []
    },
    {
      "metadata": {
        "id": "9whMnHW2AOC2",
        "colab_type": "code",
        "colab": {
          "base_uri": "https://localhost:8080/",
          "height": 361
        },
        "outputId": "3437e31d-e21b-434c-846d-14f08eb5125d"
      },
      "cell_type": "code",
      "source": [
        "pd_final.head()"
      ],
      "execution_count": 10,
      "outputs": [
        {
          "output_type": "execute_result",
          "data": {
            "text/html": [
              "<div>\n",
              "<style scoped>\n",
              "    .dataframe tbody tr th:only-of-type {\n",
              "        vertical-align: middle;\n",
              "    }\n",
              "\n",
              "    .dataframe tbody tr th {\n",
              "        vertical-align: top;\n",
              "    }\n",
              "\n",
              "    .dataframe thead th {\n",
              "        text-align: right;\n",
              "    }\n",
              "</style>\n",
              "<table border=\"1\" class=\"dataframe\">\n",
              "  <thead>\n",
              "    <tr style=\"text-align: right;\">\n",
              "      <th></th>\n",
              "      <th>Average barometer (in)</th>\n",
              "      <th>Average dewpoint (°F)</th>\n",
              "      <th>Average direction (°deg)</th>\n",
              "      <th>Average gustspeed (mph)</th>\n",
              "      <th>Average humidity (%)</th>\n",
              "      <th>Average temperature (°F)</th>\n",
              "      <th>Average windspeed (mph)</th>\n",
              "      <th>Maximum gust speed (mph)</th>\n",
              "      <th>Maximum heat index (°F)</th>\n",
              "      <th>Maximum humidity (%)</th>\n",
              "      <th>Maximum pressure</th>\n",
              "      <th>Maximum rain per minute</th>\n",
              "      <th>Maximum temperature (°F)</th>\n",
              "      <th>Maximum windspeed (mph)</th>\n",
              "      <th>Minimum humidity (%)</th>\n",
              "      <th>Minimum pressure</th>\n",
              "      <th>Minimum temperature (°F)</th>\n",
              "      <th>Rainfall for month (in)</th>\n",
              "      <th>Rainfall for year (in)</th>\n",
              "    </tr>\n",
              "  </thead>\n",
              "  <tbody>\n",
              "    <tr>\n",
              "      <th>2009-01-01</th>\n",
              "      <td>29.7</td>\n",
              "      <td>12.7</td>\n",
              "      <td>274.0</td>\n",
              "      <td>36.8</td>\n",
              "      <td>35.0</td>\n",
              "      <td>37.8</td>\n",
              "      <td>26.4</td>\n",
              "      <td>59.0</td>\n",
              "      <td>40.1</td>\n",
              "      <td>44.0</td>\n",
              "      <td>29.762</td>\n",
              "      <td>0.0</td>\n",
              "      <td>40.1</td>\n",
              "      <td>41.4</td>\n",
              "      <td>27.0</td>\n",
              "      <td>29.596</td>\n",
              "      <td>34.5</td>\n",
              "      <td>0.0</td>\n",
              "      <td>0.0</td>\n",
              "    </tr>\n",
              "    <tr>\n",
              "      <th>2009-01-02</th>\n",
              "      <td>29.5</td>\n",
              "      <td>14.7</td>\n",
              "      <td>240.0</td>\n",
              "      <td>18.0</td>\n",
              "      <td>32.0</td>\n",
              "      <td>43.2</td>\n",
              "      <td>12.8</td>\n",
              "      <td>51.0</td>\n",
              "      <td>52.8</td>\n",
              "      <td>43.0</td>\n",
              "      <td>29.669</td>\n",
              "      <td>0.0</td>\n",
              "      <td>52.8</td>\n",
              "      <td>35.7</td>\n",
              "      <td>16.0</td>\n",
              "      <td>29.268</td>\n",
              "      <td>37.5</td>\n",
              "      <td>0.0</td>\n",
              "      <td>0.0</td>\n",
              "    </tr>\n",
              "    <tr>\n",
              "      <th>2009-01-03</th>\n",
              "      <td>29.7</td>\n",
              "      <td>12.7</td>\n",
              "      <td>290.0</td>\n",
              "      <td>12.2</td>\n",
              "      <td>60.0</td>\n",
              "      <td>25.7</td>\n",
              "      <td>8.3</td>\n",
              "      <td>38.0</td>\n",
              "      <td>41.2</td>\n",
              "      <td>89.0</td>\n",
              "      <td>30.232</td>\n",
              "      <td>0.0</td>\n",
              "      <td>41.2</td>\n",
              "      <td>25.3</td>\n",
              "      <td>35.0</td>\n",
              "      <td>29.260</td>\n",
              "      <td>6.7</td>\n",
              "      <td>0.0</td>\n",
              "      <td>0.0</td>\n",
              "    </tr>\n",
              "    <tr>\n",
              "      <th>2009-01-04</th>\n",
              "      <td>30.4</td>\n",
              "      <td>0.1</td>\n",
              "      <td>47.0</td>\n",
              "      <td>4.5</td>\n",
              "      <td>67.0</td>\n",
              "      <td>9.3</td>\n",
              "      <td>2.9</td>\n",
              "      <td>20.0</td>\n",
              "      <td>32.0</td>\n",
              "      <td>79.0</td>\n",
              "      <td>30.566</td>\n",
              "      <td>0.0</td>\n",
              "      <td>19.4</td>\n",
              "      <td>12.7</td>\n",
              "      <td>35.0</td>\n",
              "      <td>30.227</td>\n",
              "      <td>-0.0</td>\n",
              "      <td>0.0</td>\n",
              "      <td>0.0</td>\n",
              "    </tr>\n",
              "    <tr>\n",
              "      <th>2009-01-05</th>\n",
              "      <td>29.9</td>\n",
              "      <td>-5.3</td>\n",
              "      <td>265.0</td>\n",
              "      <td>23.1</td>\n",
              "      <td>30.0</td>\n",
              "      <td>23.5</td>\n",
              "      <td>16.7</td>\n",
              "      <td>53.0</td>\n",
              "      <td>32.0</td>\n",
              "      <td>56.0</td>\n",
              "      <td>30.233</td>\n",
              "      <td>0.0</td>\n",
              "      <td>30.3</td>\n",
              "      <td>38.0</td>\n",
              "      <td>13.0</td>\n",
              "      <td>29.568</td>\n",
              "      <td>15.1</td>\n",
              "      <td>0.0</td>\n",
              "      <td>0.0</td>\n",
              "    </tr>\n",
              "  </tbody>\n",
              "</table>\n",
              "</div>"
            ],
            "text/plain": [
              "            Average barometer (in)  Average dewpoint (°F)  \\\n",
              "2009-01-01                    29.7                   12.7   \n",
              "2009-01-02                    29.5                   14.7   \n",
              "2009-01-03                    29.7                   12.7   \n",
              "2009-01-04                    30.4                    0.1   \n",
              "2009-01-05                    29.9                   -5.3   \n",
              "\n",
              "            Average direction (°deg)  Average gustspeed (mph)  \\\n",
              "2009-01-01                     274.0                     36.8   \n",
              "2009-01-02                     240.0                     18.0   \n",
              "2009-01-03                     290.0                     12.2   \n",
              "2009-01-04                      47.0                      4.5   \n",
              "2009-01-05                     265.0                     23.1   \n",
              "\n",
              "            Average humidity (%)  Average temperature (°F)  \\\n",
              "2009-01-01                  35.0                      37.8   \n",
              "2009-01-02                  32.0                      43.2   \n",
              "2009-01-03                  60.0                      25.7   \n",
              "2009-01-04                  67.0                       9.3   \n",
              "2009-01-05                  30.0                      23.5   \n",
              "\n",
              "            Average windspeed (mph)  Maximum gust speed (mph)  \\\n",
              "2009-01-01                     26.4                      59.0   \n",
              "2009-01-02                     12.8                      51.0   \n",
              "2009-01-03                      8.3                      38.0   \n",
              "2009-01-04                      2.9                      20.0   \n",
              "2009-01-05                     16.7                      53.0   \n",
              "\n",
              "            Maximum heat index (°F)  Maximum humidity (%)  Maximum pressure  \\\n",
              "2009-01-01                     40.1                  44.0            29.762   \n",
              "2009-01-02                     52.8                  43.0            29.669   \n",
              "2009-01-03                     41.2                  89.0            30.232   \n",
              "2009-01-04                     32.0                  79.0            30.566   \n",
              "2009-01-05                     32.0                  56.0            30.233   \n",
              "\n",
              "            Maximum rain per minute  Maximum temperature (°F)  \\\n",
              "2009-01-01                      0.0                      40.1   \n",
              "2009-01-02                      0.0                      52.8   \n",
              "2009-01-03                      0.0                      41.2   \n",
              "2009-01-04                      0.0                      19.4   \n",
              "2009-01-05                      0.0                      30.3   \n",
              "\n",
              "            Maximum windspeed (mph)  Minimum humidity (%)  Minimum pressure  \\\n",
              "2009-01-01                     41.4                  27.0            29.596   \n",
              "2009-01-02                     35.7                  16.0            29.268   \n",
              "2009-01-03                     25.3                  35.0            29.260   \n",
              "2009-01-04                     12.7                  35.0            30.227   \n",
              "2009-01-05                     38.0                  13.0            29.568   \n",
              "\n",
              "            Minimum temperature (°F)  Rainfall for month (in)  \\\n",
              "2009-01-01                      34.5                      0.0   \n",
              "2009-01-02                      37.5                      0.0   \n",
              "2009-01-03                       6.7                      0.0   \n",
              "2009-01-04                      -0.0                      0.0   \n",
              "2009-01-05                      15.1                      0.0   \n",
              "\n",
              "            Rainfall for year (in)  \n",
              "2009-01-01                     0.0  \n",
              "2009-01-02                     0.0  \n",
              "2009-01-03                     0.0  \n",
              "2009-01-04                     0.0  \n",
              "2009-01-05                     0.0  "
            ]
          },
          "metadata": {
            "tags": []
          },
          "execution_count": 10
        }
      ]
    },
    {
      "metadata": {
        "id": "cdg5t5ctARaO",
        "colab_type": "code",
        "colab": {
          "base_uri": "https://localhost:8080/",
          "height": 35
        },
        "outputId": "d4640faa-216c-4e5e-abc8-52456399d87c"
      },
      "cell_type": "code",
      "source": [
        "#Standard deviation of maximum windspeed\n",
        "print(\"Standard deviation of maximum windspeed\",pd_final['Maximum windspeed (mph)'].std())"
      ],
      "execution_count": 13,
      "outputs": [
        {
          "output_type": "stream",
          "text": [
            "Standard deviation of maximum windspeed 13.059215714829437\n"
          ],
          "name": "stdout"
        }
      ]
    },
    {
      "metadata": {
        "id": "N9i0JsuCAyPV",
        "colab_type": "code",
        "colab": {
          "base_uri": "https://localhost:8080/",
          "height": 35
        },
        "outputId": "a774d252-dd50-4e6b-baa9-312e066d8b51"
      },
      "cell_type": "code",
      "source": [
        "#pearson correlation between avg dew point and avg temperature\n",
        "data_corr=pd_final[[\"Average dewpoint (°F)\",\"Average temperature (°F)\"]]\n",
        "x=data_corr.corr(method='pearson')\n",
        "print(\"pearson correlation between avg dew point and avg temperature\",x.values[0][1])"
      ],
      "execution_count": 21,
      "outputs": [
        {
          "output_type": "stream",
          "text": [
            "pearson correlation between avg dew point and avg temperature 0.7596091253567293\n"
          ],
          "name": "stdout"
        }
      ]
    },
    {
      "metadata": {
        "id": "GnoHj2sNDTZh",
        "colab_type": "code",
        "colab": {
          "base_uri": "https://localhost:8080/",
          "height": 35
        },
        "outputId": "d1021393-73c3-4f92-fd87-0daa3d0b3b90"
      },
      "cell_type": "code",
      "source": [
        "#difference between 50th percentile and 75th percentile of aveerage temperature\n",
        "x = pd_final[\"Average temperature (°F)\"].quantile(0.5)\n",
        "y= pd_final[\"Average temperature (°F)\"].quantile(0.75)\n",
        "print(\"difference between 50th percentile and 75th percentile of aveerage temperature\",(x-y))\n"
      ],
      "execution_count": 25,
      "outputs": [
        {
          "output_type": "stream",
          "text": [
            "difference between 50th percentile and 75th percentile of aveerage temperature -12.200000000000003\n"
          ],
          "name": "stdout"
        }
      ]
    },
    {
      "metadata": {
        "id": "AOCkSENAFiYT",
        "colab_type": "code",
        "colab": {
          "base_uri": "https://localhost:8080/",
          "height": 89
        },
        "outputId": "36cfc8ff-6bfb-4f5c-bf77-294330c4335f"
      },
      "cell_type": "code",
      "source": [
        "x = pd_final[\"Average humidity (%)\"].argmin().month\n",
        "print(\"the lowest average humidity occured in month\",x)\n"
      ],
      "execution_count": 45,
      "outputs": [
        {
          "output_type": "stream",
          "text": [
            "the lowest average humidity occured in month 1\n"
          ],
          "name": "stdout"
        },
        {
          "output_type": "stream",
          "text": [
            "/usr/local/lib/python3.6/dist-packages/ipykernel_launcher.py:1: FutureWarning: 'argmin' is deprecated. Use 'idxmin' instead. The behavior of 'argmin' will be corrected to return the positional minimum in the future. Use 'series.values.argmin' to get the position of the minimum now.\n",
            "  \"\"\"Entry point for launching an IPython kernel.\n"
          ],
          "name": "stderr"
        }
      ]
    },
    {
      "metadata": {
        "id": "m5rRu1ppEKGK",
        "colab_type": "code",
        "colab": {}
      },
      "cell_type": "code",
      "source": [
        "pd_final[\"pressure_diff\"] = (pd_final[\"Maximum pressure\"]-pd_final[\"Minimum pressure\"])"
      ],
      "execution_count": 0,
      "outputs": []
    },
    {
      "metadata": {
        "id": "wn6JW_nOEzBb",
        "colab_type": "code",
        "colab": {
          "base_uri": "https://localhost:8080/",
          "height": 361
        },
        "outputId": "0be871df-6068-4057-a589-38b0e0605c28"
      },
      "cell_type": "code",
      "source": [
        "pd_final.head()"
      ],
      "execution_count": 47,
      "outputs": [
        {
          "output_type": "execute_result",
          "data": {
            "text/html": [
              "<div>\n",
              "<style scoped>\n",
              "    .dataframe tbody tr th:only-of-type {\n",
              "        vertical-align: middle;\n",
              "    }\n",
              "\n",
              "    .dataframe tbody tr th {\n",
              "        vertical-align: top;\n",
              "    }\n",
              "\n",
              "    .dataframe thead th {\n",
              "        text-align: right;\n",
              "    }\n",
              "</style>\n",
              "<table border=\"1\" class=\"dataframe\">\n",
              "  <thead>\n",
              "    <tr style=\"text-align: right;\">\n",
              "      <th></th>\n",
              "      <th>Average barometer (in)</th>\n",
              "      <th>Average dewpoint (°F)</th>\n",
              "      <th>Average direction (°deg)</th>\n",
              "      <th>Average gustspeed (mph)</th>\n",
              "      <th>Average humidity (%)</th>\n",
              "      <th>Average temperature (°F)</th>\n",
              "      <th>Average windspeed (mph)</th>\n",
              "      <th>Maximum gust speed (mph)</th>\n",
              "      <th>Maximum heat index (°F)</th>\n",
              "      <th>Maximum humidity (%)</th>\n",
              "      <th>Maximum pressure</th>\n",
              "      <th>Maximum rain per minute</th>\n",
              "      <th>Maximum temperature (°F)</th>\n",
              "      <th>Maximum windspeed (mph)</th>\n",
              "      <th>Minimum humidity (%)</th>\n",
              "      <th>Minimum pressure</th>\n",
              "      <th>Minimum temperature (°F)</th>\n",
              "      <th>Rainfall for month (in)</th>\n",
              "      <th>Rainfall for year (in)</th>\n",
              "      <th>pressure_diff</th>\n",
              "    </tr>\n",
              "  </thead>\n",
              "  <tbody>\n",
              "    <tr>\n",
              "      <th>2009-01-01</th>\n",
              "      <td>29.7</td>\n",
              "      <td>12.7</td>\n",
              "      <td>274.0</td>\n",
              "      <td>36.8</td>\n",
              "      <td>35.0</td>\n",
              "      <td>37.8</td>\n",
              "      <td>26.4</td>\n",
              "      <td>59.0</td>\n",
              "      <td>40.1</td>\n",
              "      <td>44.0</td>\n",
              "      <td>29.762</td>\n",
              "      <td>0.0</td>\n",
              "      <td>40.1</td>\n",
              "      <td>41.4</td>\n",
              "      <td>27.0</td>\n",
              "      <td>29.596</td>\n",
              "      <td>34.5</td>\n",
              "      <td>0.0</td>\n",
              "      <td>0.0</td>\n",
              "      <td>0.166</td>\n",
              "    </tr>\n",
              "    <tr>\n",
              "      <th>2009-01-02</th>\n",
              "      <td>29.5</td>\n",
              "      <td>14.7</td>\n",
              "      <td>240.0</td>\n",
              "      <td>18.0</td>\n",
              "      <td>32.0</td>\n",
              "      <td>43.2</td>\n",
              "      <td>12.8</td>\n",
              "      <td>51.0</td>\n",
              "      <td>52.8</td>\n",
              "      <td>43.0</td>\n",
              "      <td>29.669</td>\n",
              "      <td>0.0</td>\n",
              "      <td>52.8</td>\n",
              "      <td>35.7</td>\n",
              "      <td>16.0</td>\n",
              "      <td>29.268</td>\n",
              "      <td>37.5</td>\n",
              "      <td>0.0</td>\n",
              "      <td>0.0</td>\n",
              "      <td>0.401</td>\n",
              "    </tr>\n",
              "    <tr>\n",
              "      <th>2009-01-03</th>\n",
              "      <td>29.7</td>\n",
              "      <td>12.7</td>\n",
              "      <td>290.0</td>\n",
              "      <td>12.2</td>\n",
              "      <td>60.0</td>\n",
              "      <td>25.7</td>\n",
              "      <td>8.3</td>\n",
              "      <td>38.0</td>\n",
              "      <td>41.2</td>\n",
              "      <td>89.0</td>\n",
              "      <td>30.232</td>\n",
              "      <td>0.0</td>\n",
              "      <td>41.2</td>\n",
              "      <td>25.3</td>\n",
              "      <td>35.0</td>\n",
              "      <td>29.260</td>\n",
              "      <td>6.7</td>\n",
              "      <td>0.0</td>\n",
              "      <td>0.0</td>\n",
              "      <td>0.972</td>\n",
              "    </tr>\n",
              "    <tr>\n",
              "      <th>2009-01-04</th>\n",
              "      <td>30.4</td>\n",
              "      <td>0.1</td>\n",
              "      <td>47.0</td>\n",
              "      <td>4.5</td>\n",
              "      <td>67.0</td>\n",
              "      <td>9.3</td>\n",
              "      <td>2.9</td>\n",
              "      <td>20.0</td>\n",
              "      <td>32.0</td>\n",
              "      <td>79.0</td>\n",
              "      <td>30.566</td>\n",
              "      <td>0.0</td>\n",
              "      <td>19.4</td>\n",
              "      <td>12.7</td>\n",
              "      <td>35.0</td>\n",
              "      <td>30.227</td>\n",
              "      <td>-0.0</td>\n",
              "      <td>0.0</td>\n",
              "      <td>0.0</td>\n",
              "      <td>0.339</td>\n",
              "    </tr>\n",
              "    <tr>\n",
              "      <th>2009-01-05</th>\n",
              "      <td>29.9</td>\n",
              "      <td>-5.3</td>\n",
              "      <td>265.0</td>\n",
              "      <td>23.1</td>\n",
              "      <td>30.0</td>\n",
              "      <td>23.5</td>\n",
              "      <td>16.7</td>\n",
              "      <td>53.0</td>\n",
              "      <td>32.0</td>\n",
              "      <td>56.0</td>\n",
              "      <td>30.233</td>\n",
              "      <td>0.0</td>\n",
              "      <td>30.3</td>\n",
              "      <td>38.0</td>\n",
              "      <td>13.0</td>\n",
              "      <td>29.568</td>\n",
              "      <td>15.1</td>\n",
              "      <td>0.0</td>\n",
              "      <td>0.0</td>\n",
              "      <td>0.665</td>\n",
              "    </tr>\n",
              "  </tbody>\n",
              "</table>\n",
              "</div>"
            ],
            "text/plain": [
              "            Average barometer (in)  Average dewpoint (°F)  \\\n",
              "2009-01-01                    29.7                   12.7   \n",
              "2009-01-02                    29.5                   14.7   \n",
              "2009-01-03                    29.7                   12.7   \n",
              "2009-01-04                    30.4                    0.1   \n",
              "2009-01-05                    29.9                   -5.3   \n",
              "\n",
              "            Average direction (°deg)  Average gustspeed (mph)  \\\n",
              "2009-01-01                     274.0                     36.8   \n",
              "2009-01-02                     240.0                     18.0   \n",
              "2009-01-03                     290.0                     12.2   \n",
              "2009-01-04                      47.0                      4.5   \n",
              "2009-01-05                     265.0                     23.1   \n",
              "\n",
              "            Average humidity (%)  Average temperature (°F)  \\\n",
              "2009-01-01                  35.0                      37.8   \n",
              "2009-01-02                  32.0                      43.2   \n",
              "2009-01-03                  60.0                      25.7   \n",
              "2009-01-04                  67.0                       9.3   \n",
              "2009-01-05                  30.0                      23.5   \n",
              "\n",
              "            Average windspeed (mph)  Maximum gust speed (mph)  \\\n",
              "2009-01-01                     26.4                      59.0   \n",
              "2009-01-02                     12.8                      51.0   \n",
              "2009-01-03                      8.3                      38.0   \n",
              "2009-01-04                      2.9                      20.0   \n",
              "2009-01-05                     16.7                      53.0   \n",
              "\n",
              "            Maximum heat index (°F)  Maximum humidity (%)  Maximum pressure  \\\n",
              "2009-01-01                     40.1                  44.0            29.762   \n",
              "2009-01-02                     52.8                  43.0            29.669   \n",
              "2009-01-03                     41.2                  89.0            30.232   \n",
              "2009-01-04                     32.0                  79.0            30.566   \n",
              "2009-01-05                     32.0                  56.0            30.233   \n",
              "\n",
              "            Maximum rain per minute  Maximum temperature (°F)  \\\n",
              "2009-01-01                      0.0                      40.1   \n",
              "2009-01-02                      0.0                      52.8   \n",
              "2009-01-03                      0.0                      41.2   \n",
              "2009-01-04                      0.0                      19.4   \n",
              "2009-01-05                      0.0                      30.3   \n",
              "\n",
              "            Maximum windspeed (mph)  Minimum humidity (%)  Minimum pressure  \\\n",
              "2009-01-01                     41.4                  27.0            29.596   \n",
              "2009-01-02                     35.7                  16.0            29.268   \n",
              "2009-01-03                     25.3                  35.0            29.260   \n",
              "2009-01-04                     12.7                  35.0            30.227   \n",
              "2009-01-05                     38.0                  13.0            29.568   \n",
              "\n",
              "            Minimum temperature (°F)  Rainfall for month (in)  \\\n",
              "2009-01-01                      34.5                      0.0   \n",
              "2009-01-02                      37.5                      0.0   \n",
              "2009-01-03                       6.7                      0.0   \n",
              "2009-01-04                      -0.0                      0.0   \n",
              "2009-01-05                      15.1                      0.0   \n",
              "\n",
              "            Rainfall for year (in)  pressure_diff  \n",
              "2009-01-01                     0.0          0.166  \n",
              "2009-01-02                     0.0          0.401  \n",
              "2009-01-03                     0.0          0.972  \n",
              "2009-01-04                     0.0          0.339  \n",
              "2009-01-05                     0.0          0.665  "
            ]
          },
          "metadata": {
            "tags": []
          },
          "execution_count": 47
        }
      ]
    },
    {
      "metadata": {
        "id": "gsTDhHx-IEvI",
        "colab_type": "code",
        "colab": {}
      },
      "cell_type": "code",
      "source": [
        "import datetime as dt\n",
        "from datetime import date\n",
        "import calendar"
      ],
      "execution_count": 0,
      "outputs": []
    },
    {
      "metadata": {
        "id": "GRmB4ZvWHcj2",
        "colab_type": "code",
        "colab": {
          "base_uri": "https://localhost:8080/",
          "height": 89
        },
        "outputId": "2c92f107-2451-4d95-fe2d-a5b767ad30c8"
      },
      "cell_type": "code",
      "source": [
        "#import calenda\n",
        "x = pd_final[\"pressure_diff\"].argmax()\n",
        "#calendar.day_name(x)\n",
        "print(\"Highest diff between max pressure and min pressure occured in \",x)"
      ],
      "execution_count": 60,
      "outputs": [
        {
          "output_type": "stream",
          "text": [
            "Highest diff between max pressure and min pressure occured in  2018-03-23 00:00:00\n"
          ],
          "name": "stdout"
        },
        {
          "output_type": "stream",
          "text": [
            "/usr/local/lib/python3.6/dist-packages/ipykernel_launcher.py:1: FutureWarning: 'argmax' is deprecated. Use 'idxmax' instead. The behavior of 'argmax' will be corrected to return the positional maximum in the future. Use 'series.values.argmax' to get the position of the maximum now.\n",
            "  \"\"\"Entry point for launching an IPython kernel.\n"
          ],
          "name": "stderr"
        }
      ]
    },
    {
      "metadata": {
        "id": "eR1JZam3Ivzw",
        "colab_type": "code",
        "colab": {}
      },
      "cell_type": "code",
      "source": [
        "x= pd_final[\"Maximum gust speed (mph)\"].median()\n"
      ],
      "execution_count": 0,
      "outputs": []
    },
    {
      "metadata": {
        "id": "X4kIioAAKEtK",
        "colab_type": "code",
        "colab": {
          "base_uri": "https://localhost:8080/",
          "height": 35
        },
        "outputId": "9fac6e49-5b53-4018-9fff-6d0d869581a3"
      },
      "cell_type": "code",
      "source": [
        "#average temperature between maech 2010 to may 2012\n",
        "\n",
        "#st = datetime.datetime(2010, 3, 31)\n",
        "#en = datetime.datetime(2012, 5, 31)\n",
        "\n",
        "#pd_final.loc[st:en]\n",
        "\n",
        "\n",
        "start = pd_final.index.searchsorted(dt.datetime(2010, 3, 31))\n",
        "\n",
        "end = pd_final.index.searchsorted(dt.datetime(2012, 5, 31))\n",
        "\n",
        "x = pd_final.ix[start:end]\n",
        "\n",
        "print(\"Average temperature between march 2010 and may 2012 is\",x[\"Average temperature (°F)\"].mean())"
      ],
      "execution_count": 79,
      "outputs": [
        {
          "output_type": "stream",
          "text": [
            "Average temperature between march 2010 and may 2012 is 45.87903726708072\n"
          ],
          "name": "stdout"
        }
      ]
    },
    {
      "metadata": {
        "id": "cmbVbjEPMQ8y",
        "colab_type": "code",
        "colab": {
          "base_uri": "https://localhost:8080/",
          "height": 35
        },
        "outputId": "cabe013d-d627-42d7-fc0f-ba94f0f7b333"
      },
      "cell_type": "code",
      "source": [
        "#How many days fall under median of barometer reading\n",
        "x=pd_final[\"Average barometer (in)\"].median()\n",
        "\n",
        "y = pd_final[pd_final[\"Average barometer (in)\"]==x]\n",
        "print(\"No. of days fall under median of barometer reading is \",y[\"Average barometer (in)\"].count())"
      ],
      "execution_count": 91,
      "outputs": [
        {
          "output_type": "stream",
          "text": [
            "No. of days fall under median of barometer reading is  3204\n"
          ],
          "name": "stdout"
        }
      ]
    },
    {
      "metadata": {
        "id": "2gKwOlqlNnfO",
        "colab_type": "code",
        "colab": {
          "base_uri": "https://localhost:8080/",
          "height": 35
        },
        "outputId": "1ed93be5-e9eb-403c-90e7-54243e8d8f00"
      },
      "cell_type": "code",
      "source": [
        "#Average temperature on dec 2010\n",
        "\n",
        "x = pd_final[(pd_final.index.year==2010) & (pd_final.index.month==12)]\n",
        "print(\"Average temperature on dec 2010 is\", x[\"Average temperature (°F)\"].mean())\n",
        "\n"
      ],
      "execution_count": 99,
      "outputs": [
        {
          "output_type": "stream",
          "text": [
            "Average temperature on dec 2010 is 31.276666666666667\n"
          ],
          "name": "stdout"
        }
      ]
    },
    {
      "metadata": {
        "id": "KT17tHb1Obc4",
        "colab_type": "code",
        "colab": {
          "base_uri": "https://localhost:8080/",
          "height": 35
        },
        "outputId": "fd622128-0d3a-4cd4-dd8b-0e9a70b5768d"
      },
      "cell_type": "code",
      "source": [
        "#How many days are within standard deviation of average temperature\n",
        "\n",
        "x = pd_final[\"Average temperature (°F)\"].std(ddof=1)\n",
        "#x\n",
        "pd_temp = pd_final[pd_final[\"Average temperature (°F)\"]==x]\n",
        "#pd_temp.count()\n",
        "pd_temp\n",
        "print(\"Number of days fall within std deviation of average temperature is\", pd_temp[\"Average temperature (°F)\"].count())"
      ],
      "execution_count": 108,
      "outputs": [
        {
          "output_type": "stream",
          "text": [
            "Number of days fall within std deviation of average temperature is 0\n"
          ],
          "name": "stdout"
        }
      ]
    }
  ]
}