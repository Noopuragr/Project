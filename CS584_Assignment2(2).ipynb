{
 "cells": [
  {
   "cell_type": "markdown",
   "metadata": {
    "id": "8iwaee_T-Urj"
   },
   "source": [
    "# Assignment 2 - Logistic Regression\n",
    "> **FULL MARKS = 100**\n",
    "\n",
    "In this assignment, you are going to implement your own logistic Regression function. Please notice **no** library versions of logistic regression are allowed. Follow the instructions, you will need to fill the blanks to make it functional. The process is similar to the previous assignment. "
   ]
  },
  {
   "cell_type": "markdown",
   "metadata": {
    "id": "FWwuN_B5D73w"
   },
   "source": [
    "***Initialization***"
   ]
  },
  {
   "cell_type": "markdown",
   "metadata": {
    "id": "-H_r0Tz6gu4c"
   },
   "source": [
    "*No more library allowed*"
   ]
  },
  {
   "cell_type": "code",
   "execution_count": 62,
   "metadata": {
    "id": "9M1DAu9XPY8E"
   },
   "outputs": [],
   "source": [
    "# load required library\n",
    "import matplotlib.pyplot as plt\n",
    "import numpy as np\n",
    "from sklearn.datasets import load_iris\n",
    "import scipy.optimize as opt"
   ]
  },
  {
   "cell_type": "markdown",
   "metadata": {
    "id": "4LdQ5yubLJld"
   },
   "source": [
    "Load data *(Do not modify)*\n",
    "_________\n",
    "\n",
    "We use 100 samples and 2 features. \n"
   ]
  },
  {
   "cell_type": "code",
   "execution_count": 88,
   "metadata": {
    "id": "ipOG3LQfjQMh",
    "pycharm": {
     "name": "#%%\n"
    }
   },
   "outputs": [],
   "source": [
    "x, y = load_iris(return_X_y=True)"
   ]
  },
  {
   "cell_type": "code",
   "execution_count": 89,
   "metadata": {
    "id": "7EpIS82ED4vr"
   },
   "outputs": [],
   "source": [
    "x=x[:100, :2] # class 0 and 1 balanced\n",
    "y=y[:100]"
   ]
  },
  {
   "cell_type": "code",
   "execution_count": 90,
   "metadata": {
    "id": "z3qQec9DvesN"
   },
   "outputs": [],
   "source": [
    "theta = np.zeros(x.shape[1])"
   ]
  },
  {
   "cell_type": "markdown",
   "metadata": {
    "id": "33XtealSjQMk"
   },
   "source": [
    "Visualize data\n",
    "___________"
   ]
  },
  {
   "cell_type": "code",
   "execution_count": null,
   "metadata": {
    "id": "V5KwBYiT-J3x"
   },
   "outputs": [],
   "source": [
    "# draw raw data\n",
    "def draw_data(x,y):\n",
    "    \n",
    "    #########################################################################\n",
    "    # Full Mark: 10                                                         #    \n",
    "    # TODO:                                                                 #\n",
    "    # 1. make a scatter plot of the raw data                                #\n",
    "    # 2. set title for the plot                                             #\n",
    "    # 3. set label for x,y axis                                             #\n",
    "    # Note, this scatter plot has two different type of points              #\n",
    "    #########################################################################\n",
    "\n",
    "\n",
    "\n",
    "    #########################################################################\n",
    "    #                       END OF YOUR CODE                                #\n",
    "    #########################################################################\n",
    "\n",
    "    # show plot\n",
    "    plt.show()"
   ]
  },
  {
   "cell_type": "markdown",
   "metadata": {
    "id": "6jyZEY2f-ZlQ"
   },
   "source": [
    "Your plot should be similar to below"
   ]
  },
  {
   "cell_type": "code",
   "execution_count": 94,
   "metadata": {
    "colab": {
     "base_uri": "https://localhost:8080/",
     "height": 370
    },
    "id": "0X1EdMDdMpHR",
    "outputId": "738d8256-5532-4d68-866a-943f973cff83"
   },
   "outputs": [
    {
     "data": {
      "image/png": "[encoded data removed]",
      "text/plain": [
       "<Figure size 432x360 with 1 Axes>"
      ]
     },
     "metadata": {
      "needs_background": "light",
      "tags": []
     },
     "output_type": "display_data"
    }
   ],
   "source": [
    "draw_data(x,y)"
   ]
  },
  {
   "cell_type": "markdown",
   "metadata": {
    "id": "sknkLiYZjaJo"
   },
   "source": [
    "Sigmoid function\n",
    "________________"
   ]
  },
  {
   "cell_type": "code",
   "execution_count": 6,
   "metadata": {
    "id": "AsCvUXe1jQMq",
    "pycharm": {
     "name": "#%%\n"
    }
   },
   "outputs": [],
   "source": [
    "# define sigmoid function\n",
    "# math: refer to https://en.wikipedia.org/wiki/Sigmoid_function or slides\n",
    "def sigmoid(z):\n",
    "    #########################################################################\n",
    "    # Full Mark: 10                                                         # \n",
    "    # TODO:                                                                 #\n",
    "    # 1. implement the sigmoid function over input z\n",
    "    #########################################################################\n",
    "    \n",
    "    s = \n",
    "    #########################################################################\n",
    "    #                       END OF YOUR CODE                                #\n",
    "    #########################################################################\n",
    "    \n",
    "    return s"
   ]
  },
  {
   "cell_type": "markdown",
   "metadata": {
    "id": "4Layck69jdEU"
   },
   "source": [
    "Cost function\n",
    "____________"
   ]
  },
  {
   "cell_type": "code",
   "execution_count": 7,
   "metadata": {
    "id": "oUtUiAqBjQMw",
    "pycharm": {
     "name": "#%%\n"
    }
   },
   "outputs": [],
   "source": [
    "# define cost function with sigmoid function\n",
    "def cost(theta, X, y):\n",
    "    #########################################################################\n",
    "    # Full Mark: 20                                                         # \n",
    "    # TODO:                                                                 #\n",
    "    # 1. implement the cross entropy loss function with sigmoid             #\n",
    "    #########################################################################\n",
    "    \n",
    "    co = \n",
    "    #########################################################################\n",
    "    #                       END OF YOUR CODE                                #\n",
    "    #########################################################################\n",
    "    return co"
   ]
  },
  {
   "cell_type": "markdown",
   "metadata": {
    "id": "fw9RGgRojgzY"
   },
   "source": [
    "calculate gradients\n",
    "________________"
   ]
  },
  {
   "cell_type": "code",
   "execution_count": 8,
   "metadata": {
    "id": "shm404iFjQM5",
    "pycharm": {
     "name": "#%%\n"
    }
   },
   "outputs": [],
   "source": [
    "# the gradient of the cost is a vector of the same length as θ where the jth element (for j = 0, 1, . . . , n)\n",
    "def gradient(theta, X, y):\n",
    "    #########################################################################\n",
    "    # Full Mark: 20                                                         # \n",
    "    # TODO:                                                                 #\n",
    "    # 1. calculate the gradients using theta and sigmoid                    #\n",
    "    # Hint: X may need to be transposed to do matrix operation              #\n",
    "    #########################################################################\n",
    "    \n",
    "    grad = \n",
    "    #########################################################################\n",
    "    #                       END OF YOUR CODE                                #\n",
    "    #########################################################################\n",
    "    return grad"
   ]
  },
  {
   "cell_type": "code",
   "execution_count": 9,
   "metadata": {
    "id": "4-hauHHLLyh-"
   },
   "outputs": [],
   "source": [
    "# predict for new X\n",
    "def predict(theta, X):\n",
    "    #########################################################################\n",
    "    # Full Mark: 15                                                         # \n",
    "    # TODO:                                                                 #\n",
    "    # 1. predict the value using theta and sigmoid                          #\n",
    "    # 2. convert the predicted value to 0/1                                 #\n",
    "    # That's how it is called Logistic regression                           #\n",
    "    #########################################################################\n",
    "    \n",
    "    predict_labels = \n",
    "    #########################################################################\n",
    "    #                       END OF YOUR CODE                                #\n",
    "    #########################################################################\n",
    "\n",
    "    return predict_labels"
   ]
  },
  {
   "cell_type": "code",
   "execution_count": 20,
   "metadata": {
    "id": "ixEjN3TbwiPS"
   },
   "outputs": [],
   "source": [
    "# calculate accuracy\n",
    "def accurate(predictions, y):\n",
    "    #########################################################################\n",
    "    # Full Mark: 10                                                         # \n",
    "    # TODO:                                                                 #\n",
    "    # 1. calculate the accuracy value                                       #\n",
    "    # Note that you coud not import extra library                           #\n",
    "    #########################################################################\n",
    "    \n",
    "    accuracy_score = \n",
    "    #########################################################################\n",
    "    #                       END OF YOUR CODE                                #\n",
    "    #########################################################################\n",
    "    return accuracy_score"
   ]
  },
  {
   "cell_type": "markdown",
   "metadata": {
    "id": "oXGba_YxMe3-"
   },
   "source": [
    "Calling functions\n",
    "________"
   ]
  },
  {
   "cell_type": "code",
   "execution_count": 93,
   "metadata": {
    "id": "DAg50iSeMbdz"
   },
   "outputs": [],
   "source": [
    "result = opt.fmin_tnc(func=cost, x0=theta, fprime=gradient, args=(x, y))\n",
    "final_theta = result[0]\n",
    "final_cost = cost(final_theta, x, y)\n",
    "predictions = predict(final_theta, x)\n",
    "accuracy = accurate(predictions, y)"
   ]
  },
  {
   "cell_type": "code",
   "execution_count": 96,
   "metadata": {
    "id": "ButrhJxIuyqj"
   },
   "outputs": [],
   "source": [
    "print(\"final cost is \" + str(final_cost))\n",
    "print(\"accuracy is \" + str(accuracy))"
   ]
  },
  {
   "cell_type": "markdown",
   "metadata": {
    "id": "5oqofQH5OKuj"
   },
   "source": [
    "**Decsion boudary** "
   ]
  },
  {
   "cell_type": "code",
   "execution_count": 84,
   "metadata": {
    "id": "EBJmxm-Y4USK"
   },
   "outputs": [],
   "source": [
    "    #########################################################################\n",
    "    # Full Mark: 15                                                         # \n",
    "    # TODO:                                                                 #\n",
    "    # 1. plot the decision boudary on the raw data                          #\n",
    "    # 2. set title for the plot                                             #\n",
    "    # 3. set label for x,y axis                                             #\n",
    "    # Note, this scatter plot has two different type of points              #\n",
    "    #########################################################################\n",
    "\n",
    "\n",
    "    #########################################################################\n",
    "    #                       END OF YOUR CODE                                #\n",
    "    #########################################################################\n",
    "\n",
    "    # show plot\n",
    "    plt.show()"
   ]
  }
 ],
 "metadata": {
  "colab": {
   "collapsed_sections": [],
   "name": "CS584_Assignment2.ipynb",
   "provenance": []
  },
  "kernelspec": {
   "display_name": "Python 3",
   "language": "python",
   "name": "python3"
  },
  "language_info": {
   "codemirror_mode": {
    "name": "ipython",
    "version": 3
   },
   "file_extension": ".py",
   "mimetype": "text/x-python",
   "name": "python",
   "nbconvert_exporter": "python",
   "pygments_lexer": "ipython3",
   "version": "3.7.1"
  },
  "pycharm": {
   "stem_cell": {
    "cell_type": "raw",
    "metadata": {
     "collapsed": false
    },
    "source": []
   }
  }
 },
 "nbformat": 4,
 "nbformat_minor": 1
}
