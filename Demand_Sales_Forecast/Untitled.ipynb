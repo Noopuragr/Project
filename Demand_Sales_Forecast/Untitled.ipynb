{
 "cells": [
  {
   "cell_type": "code",
   "execution_count": 1,
   "metadata": {},
   "outputs": [],
   "source": [
    "import pandas as pd\n",
    "\n",
    "data = pd.read_excel(\"Demand_Sales_Forecast2.xls\")"
   ]
  },
  {
   "cell_type": "code",
   "execution_count": 2,
   "metadata": {},
   "outputs": [
    {
     "data": {
      "text/html": [
       "<div>\n",
       "<style scoped>\n",
       "    .dataframe tbody tr th:only-of-type {\n",
       "        vertical-align: middle;\n",
       "    }\n",
       "\n",
       "    .dataframe tbody tr th {\n",
       "        vertical-align: top;\n",
       "    }\n",
       "\n",
       "    .dataframe thead th {\n",
       "        text-align: right;\n",
       "    }\n",
       "</style>\n",
       "<table border=\"1\" class=\"dataframe\">\n",
       "  <thead>\n",
       "    <tr style=\"text-align: right;\">\n",
       "      <th></th>\n",
       "      <th>Row ID</th>\n",
       "      <th>Order ID</th>\n",
       "      <th>Order Date</th>\n",
       "      <th>Ship Date</th>\n",
       "      <th>Ship Mode</th>\n",
       "      <th>Customer ID</th>\n",
       "      <th>Customer Name</th>\n",
       "      <th>Segment</th>\n",
       "      <th>Country</th>\n",
       "      <th>City</th>\n",
       "      <th>...</th>\n",
       "      <th>Postal Code</th>\n",
       "      <th>Region</th>\n",
       "      <th>Product ID</th>\n",
       "      <th>Category</th>\n",
       "      <th>Sub-Category</th>\n",
       "      <th>Product Name</th>\n",
       "      <th>Sales</th>\n",
       "      <th>Quantity</th>\n",
       "      <th>Discount</th>\n",
       "      <th>Profit</th>\n",
       "    </tr>\n",
       "  </thead>\n",
       "  <tbody>\n",
       "    <tr>\n",
       "      <th>0</th>\n",
       "      <td>213</td>\n",
       "      <td>CA-2015-146262</td>\n",
       "      <td>2015-01-02</td>\n",
       "      <td>2015-01-09</td>\n",
       "      <td>Standard Class</td>\n",
       "      <td>VW-21775</td>\n",
       "      <td>Victoria Wilson</td>\n",
       "      <td>Corporate</td>\n",
       "      <td>United States</td>\n",
       "      <td>Medina</td>\n",
       "      <td>...</td>\n",
       "      <td>44256</td>\n",
       "      <td>East</td>\n",
       "      <td>OFF-LA-10004544</td>\n",
       "      <td>Office Supplies</td>\n",
       "      <td>Labels</td>\n",
       "      <td>Avery 505</td>\n",
       "      <td>23.680</td>\n",
       "      <td>2</td>\n",
       "      <td>0.2</td>\n",
       "      <td>8.8800</td>\n",
       "    </tr>\n",
       "    <tr>\n",
       "      <th>1</th>\n",
       "      <td>214</td>\n",
       "      <td>CA-2015-146262</td>\n",
       "      <td>2015-01-02</td>\n",
       "      <td>2015-01-09</td>\n",
       "      <td>Standard Class</td>\n",
       "      <td>VW-21775</td>\n",
       "      <td>Victoria Wilson</td>\n",
       "      <td>Corporate</td>\n",
       "      <td>United States</td>\n",
       "      <td>Medina</td>\n",
       "      <td>...</td>\n",
       "      <td>44256</td>\n",
       "      <td>East</td>\n",
       "      <td>FUR-BO-10004695</td>\n",
       "      <td>Furniture</td>\n",
       "      <td>Bookcases</td>\n",
       "      <td>O'Sullivan 2-Door Barrister Bookcase in Odessa...</td>\n",
       "      <td>452.450</td>\n",
       "      <td>5</td>\n",
       "      <td>0.5</td>\n",
       "      <td>-244.3230</td>\n",
       "    </tr>\n",
       "    <tr>\n",
       "      <th>2</th>\n",
       "      <td>215</td>\n",
       "      <td>CA-2015-146262</td>\n",
       "      <td>2015-01-02</td>\n",
       "      <td>2015-01-09</td>\n",
       "      <td>Standard Class</td>\n",
       "      <td>VW-21775</td>\n",
       "      <td>Victoria Wilson</td>\n",
       "      <td>Corporate</td>\n",
       "      <td>United States</td>\n",
       "      <td>Medina</td>\n",
       "      <td>...</td>\n",
       "      <td>44256</td>\n",
       "      <td>East</td>\n",
       "      <td>TEC-PH-10002844</td>\n",
       "      <td>Technology</td>\n",
       "      <td>Phones</td>\n",
       "      <td>Speck Products Candyshell Flip Case</td>\n",
       "      <td>62.982</td>\n",
       "      <td>3</td>\n",
       "      <td>0.4</td>\n",
       "      <td>-14.6958</td>\n",
       "    </tr>\n",
       "    <tr>\n",
       "      <th>3</th>\n",
       "      <td>216</td>\n",
       "      <td>CA-2015-146262</td>\n",
       "      <td>2015-01-02</td>\n",
       "      <td>2015-01-09</td>\n",
       "      <td>Standard Class</td>\n",
       "      <td>VW-21775</td>\n",
       "      <td>Victoria Wilson</td>\n",
       "      <td>Corporate</td>\n",
       "      <td>United States</td>\n",
       "      <td>Medina</td>\n",
       "      <td>...</td>\n",
       "      <td>44256</td>\n",
       "      <td>East</td>\n",
       "      <td>TEC-MA-10000864</td>\n",
       "      <td>Technology</td>\n",
       "      <td>Machines</td>\n",
       "      <td>Cisco 9971 IP Video Phone Charcoal</td>\n",
       "      <td>1188.000</td>\n",
       "      <td>9</td>\n",
       "      <td>0.7</td>\n",
       "      <td>-950.4000</td>\n",
       "    </tr>\n",
       "    <tr>\n",
       "      <th>4</th>\n",
       "      <td>217</td>\n",
       "      <td>CA-2015-146262</td>\n",
       "      <td>2015-01-02</td>\n",
       "      <td>2015-01-09</td>\n",
       "      <td>Standard Class</td>\n",
       "      <td>VW-21775</td>\n",
       "      <td>Victoria Wilson</td>\n",
       "      <td>Corporate</td>\n",
       "      <td>United States</td>\n",
       "      <td>Medina</td>\n",
       "      <td>...</td>\n",
       "      <td>44256</td>\n",
       "      <td>East</td>\n",
       "      <td>TEC-AC-10000109</td>\n",
       "      <td>Technology</td>\n",
       "      <td>Accessories</td>\n",
       "      <td>Sony Micro Vault Click 16 GB USB 2.0 Flash Drive</td>\n",
       "      <td>89.584</td>\n",
       "      <td>2</td>\n",
       "      <td>0.2</td>\n",
       "      <td>4.4792</td>\n",
       "    </tr>\n",
       "  </tbody>\n",
       "</table>\n",
       "<p>5 rows × 21 columns</p>\n",
       "</div>"
      ],
      "text/plain": [
       "   Row ID        Order ID Order Date  Ship Date       Ship Mode Customer ID  \\\n",
       "0     213  CA-2015-146262 2015-01-02 2015-01-09  Standard Class    VW-21775   \n",
       "1     214  CA-2015-146262 2015-01-02 2015-01-09  Standard Class    VW-21775   \n",
       "2     215  CA-2015-146262 2015-01-02 2015-01-09  Standard Class    VW-21775   \n",
       "3     216  CA-2015-146262 2015-01-02 2015-01-09  Standard Class    VW-21775   \n",
       "4     217  CA-2015-146262 2015-01-02 2015-01-09  Standard Class    VW-21775   \n",
       "\n",
       "     Customer Name    Segment        Country    City    ...    Postal Code  \\\n",
       "0  Victoria Wilson  Corporate  United States  Medina    ...          44256   \n",
       "1  Victoria Wilson  Corporate  United States  Medina    ...          44256   \n",
       "2  Victoria Wilson  Corporate  United States  Medina    ...          44256   \n",
       "3  Victoria Wilson  Corporate  United States  Medina    ...          44256   \n",
       "4  Victoria Wilson  Corporate  United States  Medina    ...          44256   \n",
       "\n",
       "   Region       Product ID         Category Sub-Category  \\\n",
       "0    East  OFF-LA-10004544  Office Supplies       Labels   \n",
       "1    East  FUR-BO-10004695        Furniture    Bookcases   \n",
       "2    East  TEC-PH-10002844       Technology       Phones   \n",
       "3    East  TEC-MA-10000864       Technology     Machines   \n",
       "4    East  TEC-AC-10000109       Technology  Accessories   \n",
       "\n",
       "                                        Product Name     Sales  Quantity  \\\n",
       "0                                          Avery 505    23.680         2   \n",
       "1  O'Sullivan 2-Door Barrister Bookcase in Odessa...   452.450         5   \n",
       "2                Speck Products Candyshell Flip Case    62.982         3   \n",
       "3                 Cisco 9971 IP Video Phone Charcoal  1188.000         9   \n",
       "4   Sony Micro Vault Click 16 GB USB 2.0 Flash Drive    89.584         2   \n",
       "\n",
       "   Discount    Profit  \n",
       "0       0.2    8.8800  \n",
       "1       0.5 -244.3230  \n",
       "2       0.4  -14.6958  \n",
       "3       0.7 -950.4000  \n",
       "4       0.2    4.4792  \n",
       "\n",
       "[5 rows x 21 columns]"
      ]
     },
     "execution_count": 2,
     "metadata": {},
     "output_type": "execute_result"
    }
   ],
   "source": [
    "data.head()"
   ]
  },
  {
   "cell_type": "code",
   "execution_count": 3,
   "metadata": {},
   "outputs": [],
   "source": [
    "data = data.dropna()"
   ]
  },
  {
   "cell_type": "code",
   "execution_count": 4,
   "metadata": {},
   "outputs": [],
   "source": [
    "data['Status'] = [1 if x > 50 else 0 for x in data['Profit']] "
   ]
  },
  {
   "cell_type": "code",
   "execution_count": 5,
   "metadata": {},
   "outputs": [
    {
     "data": {
      "text/html": [
       "<div>\n",
       "<style scoped>\n",
       "    .dataframe tbody tr th:only-of-type {\n",
       "        vertical-align: middle;\n",
       "    }\n",
       "\n",
       "    .dataframe tbody tr th {\n",
       "        vertical-align: top;\n",
       "    }\n",
       "\n",
       "    .dataframe thead th {\n",
       "        text-align: right;\n",
       "    }\n",
       "</style>\n",
       "<table border=\"1\" class=\"dataframe\">\n",
       "  <thead>\n",
       "    <tr style=\"text-align: right;\">\n",
       "      <th></th>\n",
       "      <th>Row ID</th>\n",
       "      <th>Order ID</th>\n",
       "      <th>Order Date</th>\n",
       "      <th>Ship Date</th>\n",
       "      <th>Ship Mode</th>\n",
       "      <th>Customer ID</th>\n",
       "      <th>Customer Name</th>\n",
       "      <th>Segment</th>\n",
       "      <th>Country</th>\n",
       "      <th>City</th>\n",
       "      <th>...</th>\n",
       "      <th>Region</th>\n",
       "      <th>Product ID</th>\n",
       "      <th>Category</th>\n",
       "      <th>Sub-Category</th>\n",
       "      <th>Product Name</th>\n",
       "      <th>Sales</th>\n",
       "      <th>Quantity</th>\n",
       "      <th>Discount</th>\n",
       "      <th>Profit</th>\n",
       "      <th>Status</th>\n",
       "    </tr>\n",
       "  </thead>\n",
       "  <tbody>\n",
       "    <tr>\n",
       "      <th>0</th>\n",
       "      <td>213</td>\n",
       "      <td>CA-2015-146262</td>\n",
       "      <td>2015-01-02</td>\n",
       "      <td>2015-01-09</td>\n",
       "      <td>Standard Class</td>\n",
       "      <td>VW-21775</td>\n",
       "      <td>Victoria Wilson</td>\n",
       "      <td>Corporate</td>\n",
       "      <td>United States</td>\n",
       "      <td>Medina</td>\n",
       "      <td>...</td>\n",
       "      <td>East</td>\n",
       "      <td>OFF-LA-10004544</td>\n",
       "      <td>Office Supplies</td>\n",
       "      <td>Labels</td>\n",
       "      <td>Avery 505</td>\n",
       "      <td>23.680</td>\n",
       "      <td>2</td>\n",
       "      <td>0.2</td>\n",
       "      <td>8.8800</td>\n",
       "      <td>0</td>\n",
       "    </tr>\n",
       "    <tr>\n",
       "      <th>1</th>\n",
       "      <td>214</td>\n",
       "      <td>CA-2015-146262</td>\n",
       "      <td>2015-01-02</td>\n",
       "      <td>2015-01-09</td>\n",
       "      <td>Standard Class</td>\n",
       "      <td>VW-21775</td>\n",
       "      <td>Victoria Wilson</td>\n",
       "      <td>Corporate</td>\n",
       "      <td>United States</td>\n",
       "      <td>Medina</td>\n",
       "      <td>...</td>\n",
       "      <td>East</td>\n",
       "      <td>FUR-BO-10004695</td>\n",
       "      <td>Furniture</td>\n",
       "      <td>Bookcases</td>\n",
       "      <td>O'Sullivan 2-Door Barrister Bookcase in Odessa...</td>\n",
       "      <td>452.450</td>\n",
       "      <td>5</td>\n",
       "      <td>0.5</td>\n",
       "      <td>-244.3230</td>\n",
       "      <td>0</td>\n",
       "    </tr>\n",
       "    <tr>\n",
       "      <th>2</th>\n",
       "      <td>215</td>\n",
       "      <td>CA-2015-146262</td>\n",
       "      <td>2015-01-02</td>\n",
       "      <td>2015-01-09</td>\n",
       "      <td>Standard Class</td>\n",
       "      <td>VW-21775</td>\n",
       "      <td>Victoria Wilson</td>\n",
       "      <td>Corporate</td>\n",
       "      <td>United States</td>\n",
       "      <td>Medina</td>\n",
       "      <td>...</td>\n",
       "      <td>East</td>\n",
       "      <td>TEC-PH-10002844</td>\n",
       "      <td>Technology</td>\n",
       "      <td>Phones</td>\n",
       "      <td>Speck Products Candyshell Flip Case</td>\n",
       "      <td>62.982</td>\n",
       "      <td>3</td>\n",
       "      <td>0.4</td>\n",
       "      <td>-14.6958</td>\n",
       "      <td>0</td>\n",
       "    </tr>\n",
       "    <tr>\n",
       "      <th>3</th>\n",
       "      <td>216</td>\n",
       "      <td>CA-2015-146262</td>\n",
       "      <td>2015-01-02</td>\n",
       "      <td>2015-01-09</td>\n",
       "      <td>Standard Class</td>\n",
       "      <td>VW-21775</td>\n",
       "      <td>Victoria Wilson</td>\n",
       "      <td>Corporate</td>\n",
       "      <td>United States</td>\n",
       "      <td>Medina</td>\n",
       "      <td>...</td>\n",
       "      <td>East</td>\n",
       "      <td>TEC-MA-10000864</td>\n",
       "      <td>Technology</td>\n",
       "      <td>Machines</td>\n",
       "      <td>Cisco 9971 IP Video Phone Charcoal</td>\n",
       "      <td>1188.000</td>\n",
       "      <td>9</td>\n",
       "      <td>0.7</td>\n",
       "      <td>-950.4000</td>\n",
       "      <td>0</td>\n",
       "    </tr>\n",
       "    <tr>\n",
       "      <th>4</th>\n",
       "      <td>217</td>\n",
       "      <td>CA-2015-146262</td>\n",
       "      <td>2015-01-02</td>\n",
       "      <td>2015-01-09</td>\n",
       "      <td>Standard Class</td>\n",
       "      <td>VW-21775</td>\n",
       "      <td>Victoria Wilson</td>\n",
       "      <td>Corporate</td>\n",
       "      <td>United States</td>\n",
       "      <td>Medina</td>\n",
       "      <td>...</td>\n",
       "      <td>East</td>\n",
       "      <td>TEC-AC-10000109</td>\n",
       "      <td>Technology</td>\n",
       "      <td>Accessories</td>\n",
       "      <td>Sony Micro Vault Click 16 GB USB 2.0 Flash Drive</td>\n",
       "      <td>89.584</td>\n",
       "      <td>2</td>\n",
       "      <td>0.2</td>\n",
       "      <td>4.4792</td>\n",
       "      <td>0</td>\n",
       "    </tr>\n",
       "  </tbody>\n",
       "</table>\n",
       "<p>5 rows × 22 columns</p>\n",
       "</div>"
      ],
      "text/plain": [
       "   Row ID        Order ID Order Date  Ship Date       Ship Mode Customer ID  \\\n",
       "0     213  CA-2015-146262 2015-01-02 2015-01-09  Standard Class    VW-21775   \n",
       "1     214  CA-2015-146262 2015-01-02 2015-01-09  Standard Class    VW-21775   \n",
       "2     215  CA-2015-146262 2015-01-02 2015-01-09  Standard Class    VW-21775   \n",
       "3     216  CA-2015-146262 2015-01-02 2015-01-09  Standard Class    VW-21775   \n",
       "4     217  CA-2015-146262 2015-01-02 2015-01-09  Standard Class    VW-21775   \n",
       "\n",
       "     Customer Name    Segment        Country    City   ...   Region  \\\n",
       "0  Victoria Wilson  Corporate  United States  Medina   ...     East   \n",
       "1  Victoria Wilson  Corporate  United States  Medina   ...     East   \n",
       "2  Victoria Wilson  Corporate  United States  Medina   ...     East   \n",
       "3  Victoria Wilson  Corporate  United States  Medina   ...     East   \n",
       "4  Victoria Wilson  Corporate  United States  Medina   ...     East   \n",
       "\n",
       "        Product ID         Category Sub-Category  \\\n",
       "0  OFF-LA-10004544  Office Supplies       Labels   \n",
       "1  FUR-BO-10004695        Furniture    Bookcases   \n",
       "2  TEC-PH-10002844       Technology       Phones   \n",
       "3  TEC-MA-10000864       Technology     Machines   \n",
       "4  TEC-AC-10000109       Technology  Accessories   \n",
       "\n",
       "                                        Product Name     Sales Quantity  \\\n",
       "0                                          Avery 505    23.680        2   \n",
       "1  O'Sullivan 2-Door Barrister Bookcase in Odessa...   452.450        5   \n",
       "2                Speck Products Candyshell Flip Case    62.982        3   \n",
       "3                 Cisco 9971 IP Video Phone Charcoal  1188.000        9   \n",
       "4   Sony Micro Vault Click 16 GB USB 2.0 Flash Drive    89.584        2   \n",
       "\n",
       "   Discount    Profit  Status  \n",
       "0       0.2    8.8800       0  \n",
       "1       0.5 -244.3230       0  \n",
       "2       0.4  -14.6958       0  \n",
       "3       0.7 -950.4000       0  \n",
       "4       0.2    4.4792       0  \n",
       "\n",
       "[5 rows x 22 columns]"
      ]
     },
     "execution_count": 5,
     "metadata": {},
     "output_type": "execute_result"
    }
   ],
   "source": [
    "data.head()"
   ]
  },
  {
   "cell_type": "code",
   "execution_count": 6,
   "metadata": {},
   "outputs": [],
   "source": [
    "import datetime\n",
    "\n",
    "data['Order Date'] = pd.to_datetime(data['Order Date'])\n",
    "\n",
    "\n"
   ]
  },
  {
   "cell_type": "code",
   "execution_count": 7,
   "metadata": {},
   "outputs": [
    {
     "data": {
      "text/plain": [
       "array(['Office Supplies', 'Furniture', 'Technology'], dtype=object)"
      ]
     },
     "execution_count": 7,
     "metadata": {},
     "output_type": "execute_result"
    }
   ],
   "source": [
    "data['Category'].unique()"
   ]
  },
  {
   "cell_type": "code",
   "execution_count": 8,
   "metadata": {},
   "outputs": [],
   "source": [
    "furniture = data.loc[data['Category'] == 'Furniture']\n",
    "furniture = furniture.sort_values('Order Date')"
   ]
  },
  {
   "cell_type": "code",
   "execution_count": 9,
   "metadata": {},
   "outputs": [
    {
     "data": {
      "text/plain": [
       "DatetimeIndex(['2015-01-02', '2015-01-03', '2015-01-04', '2015-01-05',\n",
       "               '2015-01-10', '2015-01-13', '2015-01-13', '2015-01-17',\n",
       "               '2015-01-19', '2015-01-19',\n",
       "               ...\n",
       "               '2015-12-25', '2015-12-25', '2015-12-26', '2015-12-26',\n",
       "               '2015-12-27', '2015-12-27', '2015-12-27', '2015-12-27',\n",
       "               '2015-12-27', '2015-12-31'],\n",
       "              dtype='datetime64[ns]', name='Order Date', length=452, freq=None)"
      ]
     },
     "execution_count": 9,
     "metadata": {},
     "output_type": "execute_result"
    }
   ],
   "source": [
    "furniture = furniture.set_index('Order Date')\n",
    "furniture.index"
   ]
  },
  {
   "cell_type": "code",
   "execution_count": 10,
   "metadata": {},
   "outputs": [],
   "source": [
    "y = furniture['Sales'].resample('MS').mean()"
   ]
  },
  {
   "cell_type": "code",
   "execution_count": 11,
   "metadata": {},
   "outputs": [
    {
     "data": {
      "text/plain": [
       "Order Date\n",
       "2015-01-01    782.662773\n",
       "2015-02-01    284.943091\n",
       "2015-03-01    446.420821\n",
       "2015-04-01    317.445409\n",
       "2015-05-01    312.498350\n",
       "2015-06-01    296.699192\n",
       "2015-07-01    341.860500\n",
       "2015-08-01    301.206006\n",
       "2015-09-01    437.883717\n",
       "2015-10-01    334.072875\n",
       "2015-11-01    401.049773\n",
       "2015-12-01    360.715925\n",
       "Freq: MS, Name: Sales, dtype: float64"
      ]
     },
     "execution_count": 11,
     "metadata": {},
     "output_type": "execute_result"
    }
   ],
   "source": [
    "y"
   ]
  },
  {
   "cell_type": "code",
   "execution_count": 12,
   "metadata": {},
   "outputs": [
    {
     "data": {
      "text/plain": [
       "<Figure size 1500x600 with 1 Axes>"
      ]
     },
     "metadata": {},
     "output_type": "display_data"
    }
   ],
   "source": [
    "import matplotlib.pyplot as plt\n",
    "\n",
    "y.plot(figsize=(15, 6))\n",
    "import itertooplt.show()"
   ]
  },
  {
   "cell_type": "code",
   "execution_count": 16,
   "metadata": {},
   "outputs": [
    {
     "name": "stdout",
     "output_type": "stream",
     "text": [
      "Examples of parameter combinations for Seasonal ARIMA...\n",
      "SARIMAX: (0, 0, 1) x (0, 0, 1, 12)\n",
      "SARIMAX: (0, 0, 1) x (0, 1, 0, 12)\n",
      "SARIMAX: (0, 1, 0) x (0, 1, 1, 12)\n",
      "SARIMAX: (0, 1, 0) x (1, 0, 0, 12)\n"
     ]
    }
   ],
   "source": [
    "import itertools\n",
    "\n",
    "p = d = q = range(0, 2)\n",
    "\n",
    "\n",
    "pdq = list(itertools.product(p, d, q))\n",
    "seasonal_pdq = [(x[0], x[1], x[2], 12) for x in list(itertools.product(p, d, q))]\n",
    "print('Examples of parameter combinations for Seasonal ARIMA...')\n",
    "print('SARIMAX: {} x {}'.format(pdq[1], seasonal_pdq[1]))\n",
    "print('SARIMAX: {} x {}'.format(pdq[1], seasonal_pdq[2]))\n",
    "print('SARIMAX: {} x {}'.format(pdq[2], seasonal_pdq[3]))\n",
    "print('SARIMAX: {} x {}'.format(pdq[2], seasonal_pdq[4]))"
   ]
  },
  {
   "cell_type": "code",
   "execution_count": 20,
   "metadata": {},
   "outputs": [
    {
     "name": "stderr",
     "output_type": "stream",
     "text": [
      "c:\\python3\\lib\\site-packages\\statsmodels\\tsa\\statespace\\representation.py:375: FutureWarning: Using a non-tuple sequence for multidimensional indexing is deprecated; use `arr[tuple(seq)]` instead of `arr[seq]`. In the future this will be interpreted as an array index, `arr[np.array(seq)]`, which will result either in an error or a different result.\n",
      "  return matrix[[slice(None)]*(matrix.ndim-1) + [0]]\n"
     ]
    },
    {
     "name": "stdout",
     "output_type": "stream",
     "text": [
      "ARIMA(0, 0, 0)x(0, 0, 0, 12)12 - AIC:162.26402938598986\n",
      "ARIMA(0, 0, 0)x(0, 1, 0, 12)12 - AIC:2.0\n",
      "ARIMA(0, 0, 1)x(0, 0, 0, 12)12 - AIC:142.0388135503644\n",
      "ARIMA(0, 1, 0)x(0, 0, 0, 12)12 - AIC:120.52766197963767\n",
      "ARIMA(0, 1, 0)x(0, 1, 0, 12)12 - AIC:2.0\n",
      "ARIMA(0, 1, 1)x(0, 0, 0, 12)12 - AIC:100.11764871887979\n",
      "ARIMA(1, 0, 0)x(0, 0, 0, 12)12 - AIC:145.15062167493036\n",
      "ARIMA(1, 0, 1)x(0, 0, 0, 12)12 - AIC:116.79692241951744\n",
      "ARIMA(1, 1, 0)x(0, 0, 0, 12)12 - AIC:112.04591381954808\n",
      "ARIMA(1, 1, 1)x(0, 0, 0, 12)12 - AIC:101.90776612338385\n"
     ]
    }
   ],
   "source": [
    "import statsmodels.api as sm\n",
    "\n",
    "for param in pdq:\n",
    "    for param_seasonal in seasonal_pdq:\n",
    "        try:\n",
    "            mod = sm.tsa.statespace.SARIMAX(y,order=param,seasonal_order=param_seasonal,enforce_stationarity=False,enforce_invertibility=False)\n",
    "            results = mod.fit()\n",
    "            print('ARIMA{}x{}12 - AIC:{}'.format(param, param_seasonal, results.aic))\n",
    "        except:\n",
    "            continue"
   ]
  },
  {
   "cell_type": "code",
   "execution_count": 29,
   "metadata": {},
   "outputs": [
    {
     "name": "stdout",
     "output_type": "stream",
     "text": [
      "==============================================================================\n",
      "                 coef    std err          z      P>|z|      [0.025      0.975]\n",
      "------------------------------------------------------------------------------\n",
      "sigma2              0          0        nan        nan           0           0\n",
      "==============================================================================\n"
     ]
    },
    {
     "name": "stderr",
     "output_type": "stream",
     "text": [
      "c:\\python3\\lib\\site-packages\\statsmodels\\tsa\\statespace\\representation.py:375: FutureWarning: Using a non-tuple sequence for multidimensional indexing is deprecated; use `arr[tuple(seq)]` instead of `arr[seq]`. In the future this will be interpreted as an array index, `arr[np.array(seq)]`, which will result either in an error or a different result.\n",
      "  return matrix[[slice(None)]*(matrix.ndim-1) + [0]]\n",
      "c:\\python3\\lib\\site-packages\\statsmodels\\tsa\\statespace\\mlemodel.py:2199: UserWarning: Later subset of data for variable 0  has too few non-missing observations to calculate test statistic.\n",
      "  ' calculate test statistic.' % i)\n",
      "c:\\python3\\lib\\site-packages\\scipy\\stats\\_distn_infrastructure.py:879: RuntimeWarning: invalid value encountered in greater\n",
      "  return (self.a < x) & (x < self.b)\n",
      "c:\\python3\\lib\\site-packages\\scipy\\stats\\_distn_infrastructure.py:879: RuntimeWarning: invalid value encountered in less\n",
      "  return (self.a < x) & (x < self.b)\n",
      "c:\\python3\\lib\\site-packages\\scipy\\stats\\_distn_infrastructure.py:1738: RuntimeWarning: invalid value encountered in greater_equal\n",
      "  cond2 = (x >= self.b) & cond0\n",
      "c:\\python3\\lib\\site-packages\\scipy\\stats\\_distn_infrastructure.py:1821: RuntimeWarning: invalid value encountered in less_equal\n",
      "  cond2 = cond0 & (x <= self.a)\n",
      "c:\\python3\\lib\\site-packages\\statsmodels\\tsa\\statespace\\mlemodel.py:2228: RuntimeWarning: invalid value encountered in minimum\n",
      "  pval_upper(test_statistic)\n",
      "c:\\python3\\lib\\site-packages\\statsmodels\\tools\\eval_measures.py:386: RuntimeWarning: invalid value encountered in log\n",
      "  return -2. * llf + np.log(nobs) * df_modelwc\n",
      "c:\\python3\\lib\\site-packages\\statsmodels\\tools\\eval_measures.py:411: RuntimeWarning: invalid value encountered in log\n",
      "  return -2. * llf + 2 * np.log(np.log(nobs)) * df_modelwc\n",
      "c:\\python3\\lib\\site-packages\\statsmodels\\base\\model.py:1100: RuntimeWarning: invalid value encountered in true_divide\n",
      "  return self.params / self.bse\n",
      "c:\\python3\\lib\\site-packages\\statsmodels\\tsa\\statespace\\mlemodel.py:2042: RuntimeWarning: invalid value encountered in true_divide\n",
      "  return self.params / self.bse\n"
     ]
    }
   ],
   "source": [
    "mod = sm.tsa.statespace.SARIMAX(y,order=(0, 0, 0),seasonal_order=(0, 1, 0, 12),enforce_stationarity=False,enforce_invertibility=False)\n",
    "results = mod.fit()\n",
    "print(results.summary().tables[1])"
   ]
  },
  {
   "cell_type": "code",
   "execution_count": 26,
   "metadata": {},
   "outputs": [
    {
     "ename": "IndexError",
     "evalue": "index 0 is out of bounds for axis 0 with size 0",
     "output_type": "error",
     "traceback": [
      "\u001b[1;31m---------------------------------------------------------------------------\u001b[0m",
      "\u001b[1;31mIndexError\u001b[0m                                Traceback (most recent call last)",
      "\u001b[1;32m<ipython-input-26-185efca415ba>\u001b[0m in \u001b[0;36m<module>\u001b[1;34m()\u001b[0m\n\u001b[1;32m----> 1\u001b[1;33m \u001b[0mresults\u001b[0m\u001b[1;33m.\u001b[0m\u001b[0mplot_diagnostics\u001b[0m\u001b[1;33m(\u001b[0m\u001b[1;33m)\u001b[0m\u001b[1;33m\u001b[0m\u001b[0m\n\u001b[0m\u001b[0;32m      2\u001b[0m \u001b[0mplt\u001b[0m\u001b[1;33m.\u001b[0m\u001b[0mshow\u001b[0m\u001b[1;33m(\u001b[0m\u001b[1;33m)\u001b[0m\u001b[1;33m\u001b[0m\u001b[0m\n",
      "\u001b[1;32mc:\\python3\\lib\\site-packages\\statsmodels\\tsa\\statespace\\mlemodel.py\u001b[0m in \u001b[0;36mplot_diagnostics\u001b[1;34m(self, variable, lags, fig, figsize)\u001b[0m\n\u001b[0;32m   2599\u001b[0m             \u001b[0mx\u001b[0m \u001b[1;33m=\u001b[0m \u001b[0mnp\u001b[0m\u001b[1;33m.\u001b[0m\u001b[0marange\u001b[0m\u001b[1;33m(\u001b[0m\u001b[0mlen\u001b[0m\u001b[1;33m(\u001b[0m\u001b[0mresid\u001b[0m\u001b[1;33m)\u001b[0m\u001b[1;33m)\u001b[0m\u001b[1;33m\u001b[0m\u001b[0m\n\u001b[0;32m   2600\u001b[0m         \u001b[0max\u001b[0m\u001b[1;33m.\u001b[0m\u001b[0mplot\u001b[0m\u001b[1;33m(\u001b[0m\u001b[0mx\u001b[0m\u001b[1;33m,\u001b[0m \u001b[0mresid\u001b[0m\u001b[1;33m)\u001b[0m\u001b[1;33m\u001b[0m\u001b[0m\n\u001b[1;32m-> 2601\u001b[1;33m         \u001b[0max\u001b[0m\u001b[1;33m.\u001b[0m\u001b[0mhlines\u001b[0m\u001b[1;33m(\u001b[0m\u001b[1;36m0\u001b[0m\u001b[1;33m,\u001b[0m \u001b[0mx\u001b[0m\u001b[1;33m[\u001b[0m\u001b[1;36m0\u001b[0m\u001b[1;33m]\u001b[0m\u001b[1;33m,\u001b[0m \u001b[0mx\u001b[0m\u001b[1;33m[\u001b[0m\u001b[1;33m-\u001b[0m\u001b[1;36m1\u001b[0m\u001b[1;33m]\u001b[0m\u001b[1;33m,\u001b[0m \u001b[0malpha\u001b[0m\u001b[1;33m=\u001b[0m\u001b[1;36m0.5\u001b[0m\u001b[1;33m)\u001b[0m\u001b[1;33m\u001b[0m\u001b[0m\n\u001b[0m\u001b[0;32m   2602\u001b[0m         \u001b[0max\u001b[0m\u001b[1;33m.\u001b[0m\u001b[0mset_xlim\u001b[0m\u001b[1;33m(\u001b[0m\u001b[0mx\u001b[0m\u001b[1;33m[\u001b[0m\u001b[1;36m0\u001b[0m\u001b[1;33m]\u001b[0m\u001b[1;33m,\u001b[0m \u001b[0mx\u001b[0m\u001b[1;33m[\u001b[0m\u001b[1;33m-\u001b[0m\u001b[1;36m1\u001b[0m\u001b[1;33m]\u001b[0m\u001b[1;33m)\u001b[0m\u001b[1;33m\u001b[0m\u001b[0m\n\u001b[0;32m   2603\u001b[0m         \u001b[0max\u001b[0m\u001b[1;33m.\u001b[0m\u001b[0mset_title\u001b[0m\u001b[1;33m(\u001b[0m\u001b[1;34m'Standardized residual'\u001b[0m\u001b[1;33m)\u001b[0m\u001b[1;33m\u001b[0m\u001b[0m\n",
      "\u001b[1;31mIndexError\u001b[0m: index 0 is out of bounds for axis 0 with size 0"
     ]
    },
    {
     "data": {
      "image/png": "[encoded data removed]",
      "text/plain": [
       "<Figure size 432x288 with 1 Axes>"
      ]
     },
     "metadata": {
      "needs_background": "light"
     },
     "output_type": "display_data"
    }
   ],
   "source": [
    "results.plot_diagnostics()\n",
    "plt.show()"
   ]
  },
  {
   "cell_type": "code",
   "execution_count": 13,
   "metadata": {},
   "outputs": [
    {
     "ename": "SyntaxError",
     "evalue": "invalid syntax (<ipython-input-13-36b371472a72>, line 10)",
     "output_type": "error",
     "traceback": [
      "\u001b[1;36m  File \u001b[1;32m\"<ipython-input-13-36b371472a72>\"\u001b[1;36m, line \u001b[1;32m10\u001b[0m\n\u001b[1;33m    print(results.summary().tables[1])ompose(y, model='additive')\u001b[0m\n\u001b[1;37m                                           ^\u001b[0m\n\u001b[1;31mSyntaxError\u001b[0m\u001b[1;31m:\u001b[0m invalid syntax\n"
     ]
    }
   ],
   "source": [
    "from pylab import rcParams\n",
    "import statsmodels.api as sm\n",
    "#rcParams['figure.figsize'] = 18, 8\n",
    "decomposition = sm.tsa.seasonal_decmod = sm.tsa.statespace.SARIMAX(y,\n",
    "                                order=(1, 1, 1),\n",
    "                                seasonal_order=(1, 1, 0, 12),\n",
    "                                enforce_stationarity=False,\n",
    "                                enforce_invertibility=False)\n",
    "results = mod.fit()\n",
    "print(results.summary().tables[1])ompose(y, model='additive')\n",
    "fig = decomposition.plot()\n",
    "plt.show()"
   ]
  },
  {
   "cell_type": "code",
   "execution_count": 25,
   "metadata": {},
   "outputs": [
    {
     "ename": "IndexError",
     "evalue": "too many indices for array",
     "output_type": "error",
     "traceback": [
      "\u001b[1;31m---------------------------------------------------------------------------\u001b[0m",
      "\u001b[1;31mIndexError\u001b[0m                                Traceback (most recent call last)",
      "\u001b[1;32m<ipython-input-25-f9588b2b619f>\u001b[0m in \u001b[0;36m<module>\u001b[1;34m()\u001b[0m\n\u001b[0;32m      4\u001b[0m                                 \u001b[0menforce_stationarity\u001b[0m\u001b[1;33m=\u001b[0m\u001b[1;32mFalse\u001b[0m\u001b[1;33m,\u001b[0m\u001b[1;33m\u001b[0m\u001b[0m\n\u001b[0;32m      5\u001b[0m                                 enforce_invertibility=False)\n\u001b[1;32m----> 6\u001b[1;33m \u001b[0mresults\u001b[0m \u001b[1;33m=\u001b[0m \u001b[0mmod\u001b[0m\u001b[1;33m.\u001b[0m\u001b[0mfit\u001b[0m\u001b[1;33m(\u001b[0m\u001b[1;33m)\u001b[0m\u001b[1;33m\u001b[0m\u001b[0m\n\u001b[0m\u001b[0;32m      7\u001b[0m \u001b[0mprint\u001b[0m\u001b[1;33m(\u001b[0m\u001b[0mresults\u001b[0m\u001b[1;33m.\u001b[0m\u001b[0msummary\u001b[0m\u001b[1;33m(\u001b[0m\u001b[1;33m)\u001b[0m\u001b[1;33m.\u001b[0m\u001b[0mtables\u001b[0m\u001b[1;33m[\u001b[0m\u001b[1;36m1\u001b[0m\u001b[1;33m]\u001b[0m\u001b[1;33m)\u001b[0m\u001b[1;33m\u001b[0m\u001b[0m\n",
      "\u001b[1;32mc:\\python3\\lib\\site-packages\\statsmodels\\tsa\\statespace\\mlemodel.py\u001b[0m in \u001b[0;36mfit\u001b[1;34m(self, start_params, transformed, cov_type, cov_kwds, method, maxiter, full_output, disp, callback, return_params, optim_score, optim_complex_step, optim_hessian, flags, **kwargs)\u001b[0m\n\u001b[0;32m    430\u001b[0m         \"\"\"\n\u001b[0;32m    431\u001b[0m         \u001b[1;32mif\u001b[0m \u001b[0mstart_params\u001b[0m \u001b[1;32mis\u001b[0m \u001b[1;32mNone\u001b[0m\u001b[1;33m:\u001b[0m\u001b[1;33m\u001b[0m\u001b[0m\n\u001b[1;32m--> 432\u001b[1;33m             \u001b[0mstart_params\u001b[0m \u001b[1;33m=\u001b[0m \u001b[0mself\u001b[0m\u001b[1;33m.\u001b[0m\u001b[0mstart_params\u001b[0m\u001b[1;33m\u001b[0m\u001b[0m\n\u001b[0m\u001b[0;32m    433\u001b[0m             \u001b[0mtransformed\u001b[0m \u001b[1;33m=\u001b[0m \u001b[1;32mTrue\u001b[0m\u001b[1;33m\u001b[0m\u001b[0m\n\u001b[0;32m    434\u001b[0m \u001b[1;33m\u001b[0m\u001b[0m\n",
      "\u001b[1;32mc:\\python3\\lib\\site-packages\\statsmodels\\tsa\\statespace\\sarimax.py\u001b[0m in \u001b[0;36mstart_params\u001b[1;34m(self)\u001b[0m\n\u001b[0;32m    986\u001b[0m          \u001b[0mparams_variance\u001b[0m\u001b[1;33m)\u001b[0m \u001b[1;33m=\u001b[0m \u001b[0mself\u001b[0m\u001b[1;33m.\u001b[0m\u001b[0m_conditional_sum_squares\u001b[0m\u001b[1;33m(\u001b[0m\u001b[1;33m\u001b[0m\u001b[0m\n\u001b[0;32m    987\u001b[0m             \u001b[0mendog\u001b[0m\u001b[1;33m,\u001b[0m \u001b[0mself\u001b[0m\u001b[1;33m.\u001b[0m\u001b[0mk_ar\u001b[0m\u001b[1;33m,\u001b[0m \u001b[0mself\u001b[0m\u001b[1;33m.\u001b[0m\u001b[0mpolynomial_ar\u001b[0m\u001b[1;33m,\u001b[0m \u001b[0mself\u001b[0m\u001b[1;33m.\u001b[0m\u001b[0mk_ma\u001b[0m\u001b[1;33m,\u001b[0m\u001b[1;33m\u001b[0m\u001b[0m\n\u001b[1;32m--> 988\u001b[1;33m             \u001b[0mself\u001b[0m\u001b[1;33m.\u001b[0m\u001b[0mpolynomial_ma\u001b[0m\u001b[1;33m,\u001b[0m \u001b[0mself\u001b[0m\u001b[1;33m.\u001b[0m\u001b[0mk_trend\u001b[0m\u001b[1;33m,\u001b[0m \u001b[0mtrend_data\u001b[0m\u001b[1;33m\u001b[0m\u001b[0m\n\u001b[0m\u001b[0;32m    989\u001b[0m         )\n\u001b[0;32m    990\u001b[0m \u001b[1;33m\u001b[0m\u001b[0m\n",
      "\u001b[1;32mc:\\python3\\lib\\site-packages\\statsmodels\\tsa\\statespace\\sarimax.py\u001b[0m in \u001b[0;36m_conditional_sum_squares\u001b[1;34m(endog, k_ar, polynomial_ar, k_ma, polynomial_ma, k_trend, trend_data)\u001b[0m\n\u001b[0;32m    892\u001b[0m             \u001b[1;31m# parameters\u001b[0m\u001b[1;33m\u001b[0m\u001b[1;33m\u001b[0m\u001b[0m\n\u001b[0;32m    893\u001b[0m             \u001b[1;32mif\u001b[0m \u001b[0mk_ma\u001b[0m \u001b[1;33m>\u001b[0m \u001b[1;36m0\u001b[0m\u001b[1;33m:\u001b[0m\u001b[1;33m\u001b[0m\u001b[0m\n\u001b[1;32m--> 894\u001b[1;33m                 \u001b[0mY\u001b[0m \u001b[1;33m=\u001b[0m \u001b[0mendog\u001b[0m\u001b[1;33m[\u001b[0m\u001b[0mk\u001b[0m\u001b[1;33m:\u001b[0m\u001b[1;33m]\u001b[0m\u001b[1;33m\u001b[0m\u001b[0m\n\u001b[0m\u001b[0;32m    895\u001b[0m                 \u001b[0mX\u001b[0m \u001b[1;33m=\u001b[0m \u001b[0mlagmat\u001b[0m\u001b[1;33m(\u001b[0m\u001b[0mendog\u001b[0m\u001b[1;33m,\u001b[0m \u001b[0mk\u001b[0m\u001b[1;33m,\u001b[0m \u001b[0mtrim\u001b[0m\u001b[1;33m=\u001b[0m\u001b[1;34m'both'\u001b[0m\u001b[1;33m)\u001b[0m\u001b[1;33m\u001b[0m\u001b[0m\n\u001b[0;32m    896\u001b[0m                 \u001b[0mparams_ar\u001b[0m \u001b[1;33m=\u001b[0m \u001b[0mnp\u001b[0m\u001b[1;33m.\u001b[0m\u001b[0mlinalg\u001b[0m\u001b[1;33m.\u001b[0m\u001b[0mpinv\u001b[0m\u001b[1;33m(\u001b[0m\u001b[0mX\u001b[0m\u001b[1;33m)\u001b[0m\u001b[1;33m.\u001b[0m\u001b[0mdot\u001b[0m\u001b[1;33m(\u001b[0m\u001b[0mY\u001b[0m\u001b[1;33m)\u001b[0m\u001b[1;33m\u001b[0m\u001b[0m\n",
      "\u001b[1;31mIndexError\u001b[0m: too many indices for array"
     ]
    }
   ],
   "source": [
    "mod = sm.tsa.statespace.SARIMAX(y,\n",
    "                                order=(1, 1, 1),\n",
    "                                seasonal_order=(1, 1, 0, 10),\n",
    "                                enforce_stationarity=False,\n",
    "                                enforce_invertibility=False)\n",
    "results = mod.fit()\n",
    "print(results.summary().tables[1])"
   ]
  },
  {
   "cell_type": "code",
   "execution_count": 26,
   "metadata": {},
   "outputs": [
    {
     "ename": "IndentationError",
     "evalue": "unexpected unindent (<ipython-input-26-b09dc1f80d40>, line 9)",
     "output_type": "error",
     "traceback": [
      "\u001b[1;36m  File \u001b[1;32m\"<ipython-input-26-b09dc1f80d40>\"\u001b[1;36m, line \u001b[1;32m9\u001b[0m\n\u001b[1;33m    results = mod.fit()\u001b[0m\n\u001b[1;37m                       ^\u001b[0m\n\u001b[1;31mIndentationError\u001b[0m\u001b[1;31m:\u001b[0m unexpected unindent\n"
     ]
    }
   ],
   "source": [
    "for param in pdq:\n",
    "    for param_seasonal in seasonal_pdq:\n",
    "        try:\n",
    "            mod = sm.tsa.statespace.SARIMAX(y,\n",
    "                                            order=param,\n",
    "                                            seasonal_order=param_seasonal,\n",
    "                                            enforce_stationarity=False,\n",
    "                                            enforce_invertibility=False)\n",
    "results = mod.fit()\n",
    "print('ARIMA{}x{}12 - AIC:{}'.format(param, param_seasonal, results.aic))\n",
    "        except:\n",
    "            continue"
   ]
  },
  {
   "cell_type": "code",
   "execution_count": null,
   "metadata": {},
   "outputs": [],
   "source": []
  }
 ],
 "metadata": {
  "kernelspec": {
   "display_name": "Python 3",
   "language": "python",
   "name": "python3"
  },
  "language_info": {
   "codemirror_mode": {
    "name": "ipython",
    "version": 3
   },
   "file_extension": ".py",
   "mimetype": "text/x-python",
   "name": "python",
   "nbconvert_exporter": "python",
   "pygments_lexer": "ipython3",
   "version": "3.7.0"
  }
 },
 "nbformat": 4,
 "nbformat_minor": 2
}
