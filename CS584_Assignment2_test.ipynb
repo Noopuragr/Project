{
  "nbformat": 4,
  "nbformat_minor": 0,
  "metadata": {
    "colab": {
      "name": "CS584_Assignment2(2).ipynb",
      "provenance": [],
      "collapsed_sections": []
    },
    "kernelspec": {
      "display_name": "Python 3",
      "language": "python",
      "name": "python3"
    },
    "language_info": {
      "codemirror_mode": {
        "name": "ipython",
        "version": 3
      },
      "file_extension": ".py",
      "mimetype": "text/x-python",
      "name": "python",
      "nbconvert_exporter": "python",
      "pygments_lexer": "ipython3",
      "version": "3.7.1"
    },
    "pycharm": {
      "stem_cell": {
        "cell_type": "raw",
        "metadata": {
          "collapsed": false
        },
        "source": []
      }
    }
  },
  "cells": [
    {
      "cell_type": "markdown",
      "metadata": {
        "id": "8iwaee_T-Urj"
      },
      "source": [
        "# Assignment 2 - Logistic Regression\n",
        "> **FULL MARKS = 100**\n",
        "\n",
        "In this assignment, you are going to implement your own logistic Regression function. Please notice **no** library versions of logistic regression are allowed. Follow the instructions, you will need to fill the blanks to make it functional. The process is similar to the previous assignment. "
      ]
    },
    {
      "cell_type": "markdown",
      "metadata": {
        "id": "FWwuN_B5D73w"
      },
      "source": [
        "***Initialization***"
      ]
    },
    {
      "cell_type": "markdown",
      "metadata": {
        "id": "-H_r0Tz6gu4c"
      },
      "source": [
        "*No more library allowed*"
      ]
    },
    {
      "cell_type": "code",
      "metadata": {
        "id": "9M1DAu9XPY8E"
      },
      "source": [
        "# load required library\n",
        "import matplotlib.pyplot as plt\n",
        "import numpy as np\n",
        "from sklearn.datasets import load_iris\n",
        "import scipy.optimize as opt"
      ],
      "execution_count": 1,
      "outputs": []
    },
    {
      "cell_type": "markdown",
      "metadata": {
        "id": "4LdQ5yubLJld"
      },
      "source": [
        "Load data *(Do not modify)*\n",
        "_________\n",
        "\n",
        "We use 100 samples and 2 features. \n"
      ]
    },
    {
      "cell_type": "code",
      "metadata": {
        "id": "ipOG3LQfjQMh",
        "pycharm": {
          "name": "#%%\n"
        }
      },
      "source": [
        "x, y = load_iris(return_X_y=True)"
      ],
      "execution_count": 2,
      "outputs": []
    },
    {
      "cell_type": "code",
      "metadata": {
        "id": "7EpIS82ED4vr"
      },
      "source": [
        "x=x[:100, :2] # class 0 and 1 balanced\n",
        "y=y[:100]"
      ],
      "execution_count": 3,
      "outputs": []
    },
    {
      "cell_type": "code",
      "metadata": {
        "colab": {
          "base_uri": "https://localhost:8080/"
        },
        "id": "gryRtWlrVrg6",
        "outputId": "d3f693fe-cddc-49f8-bc5f-8ed5f92babde"
      },
      "source": [
        "x.shape"
      ],
      "execution_count": 4,
      "outputs": [
        {
          "output_type": "execute_result",
          "data": {
            "text/plain": [
              "(100, 2)"
            ]
          },
          "metadata": {
            "tags": []
          },
          "execution_count": 4
        }
      ]
    },
    {
      "cell_type": "code",
      "metadata": {
        "colab": {
          "base_uri": "https://localhost:8080/"
        },
        "id": "ls1U9FsuVs9z",
        "outputId": "6064594a-2dac-4649-8d98-c3fb54684126"
      },
      "source": [
        "y.shape"
      ],
      "execution_count": 5,
      "outputs": [
        {
          "output_type": "execute_result",
          "data": {
            "text/plain": [
              "(100,)"
            ]
          },
          "metadata": {
            "tags": []
          },
          "execution_count": 5
        }
      ]
    },
    {
      "cell_type": "code",
      "metadata": {
        "id": "z3qQec9DvesN"
      },
      "source": [
        "theta = np.zeros(x.shape[1])"
      ],
      "execution_count": 6,
      "outputs": []
    },
    {
      "cell_type": "code",
      "metadata": {
        "colab": {
          "base_uri": "https://localhost:8080/"
        },
        "id": "DFo7CWH-Tjpb",
        "outputId": "856c734e-0143-4ea2-d943-ff4bc7999266"
      },
      "source": [
        "x.shape"
      ],
      "execution_count": 7,
      "outputs": [
        {
          "output_type": "execute_result",
          "data": {
            "text/plain": [
              "(100, 2)"
            ]
          },
          "metadata": {
            "tags": []
          },
          "execution_count": 7
        }
      ]
    },
    {
      "cell_type": "code",
      "metadata": {
        "colab": {
          "base_uri": "https://localhost:8080/"
        },
        "id": "Pnrg2M7pSta1",
        "outputId": "a95229a8-5c8a-4e17-9479-3821fd69980c"
      },
      "source": [
        "theta.shape"
      ],
      "execution_count": 8,
      "outputs": [
        {
          "output_type": "execute_result",
          "data": {
            "text/plain": [
              "(2,)"
            ]
          },
          "metadata": {
            "tags": []
          },
          "execution_count": 8
        }
      ]
    },
    {
      "cell_type": "markdown",
      "metadata": {
        "id": "33XtealSjQMk"
      },
      "source": [
        "Visualize data\n",
        "___________"
      ]
    },
    {
      "cell_type": "code",
      "metadata": {
        "id": "V5KwBYiT-J3x"
      },
      "source": [
        "# draw raw data\n",
        "def draw_data(x,y):\n",
        "  fig, ax = plt.subplots()\n",
        "  for g in np.unique(y):\n",
        "      ix = np.where(y == g)\n",
        "      ax.scatter(x[ix,0], x[ix,1], label = g, s = 100)\n",
        "  ax.legend()\n",
        "  plt.show()\n",
        " \n",
        "    #########################################################################\n",
        "    # Full Mark: 10                                                         #    \n",
        "    # TODO:                                                                 #\n",
        "    # 1. make a scatter plot of the raw data                                #\n",
        "    # 2. set title for the plot                                             #\n",
        "    # 3. set label for x,y axis                                             #\n",
        "    # Note, this scatter plot has two different type of points              #\n",
        "    #########################################################################\n",
        "\n",
        "\n",
        "\n",
        "    #########################################################################\n",
        "    #                       END OF YOUR CODE                                #\n",
        "    #########################################################################\n",
        "\n",
        "    # show plot\n"
      ],
      "execution_count": 9,
      "outputs": []
    },
    {
      "cell_type": "markdown",
      "metadata": {
        "id": "6jyZEY2f-ZlQ"
      },
      "source": [
        "Your plot should be similar to below"
      ]
    },
    {
      "cell_type": "code",
      "metadata": {
        "colab": {
          "base_uri": "https://localhost:8080/",
          "height": 268
        },
        "id": "0X1EdMDdMpHR",
        "outputId": "95b84519-478a-4bc3-c1fa-1192a9e85118"
      },
      "source": [
        "draw_data(x,y)"
      ],
      "execution_count": 10,
      "outputs": [
        {
          "output_type": "display_data",
          "data": {
            "image/png": "[encoded data removed]",
            "text/plain": [
              "<Figure size 432x288 with 1 Axes>"
            ]
          },
          "metadata": {
            "tags": [],
            "needs_background": "light"
          }
        }
      ]
    },
    {
      "cell_type": "markdown",
      "metadata": {
        "id": "sknkLiYZjaJo"
      },
      "source": [
        "Sigmoid function\n",
        "________________"
      ]
    },
    {
      "cell_type": "code",
      "metadata": {
        "id": "AsCvUXe1jQMq",
        "pycharm": {
          "name": "#%%\n"
        }
      },
      "source": [
        "# define sigmoid function\n",
        "# math: refer to https://en.wikipedia.org/wiki/Sigmoid_function or slides\n",
        "def sigmoid(z):\n",
        "\n",
        "  s = 1/ (1 + np.exp(-z))\n",
        "    #########################################################################\n",
        "    # Full Mark: 10                                                         # \n",
        "    # TODO:                                                                 #\n",
        "    # 1. implement the sigmoid function over input z\n",
        "    #########################################################################\n",
        "    \n",
        "\n",
        "    #########################################################################\n",
        "    #                       END OF YOUR CODE                                #\n",
        "    #########################################################################\n",
        "    \n",
        "  return s"
      ],
      "execution_count": 11,
      "outputs": []
    },
    {
      "cell_type": "markdown",
      "metadata": {
        "id": "4Layck69jdEU"
      },
      "source": [
        "Cost function\n",
        "____________"
      ]
    },
    {
      "cell_type": "code",
      "metadata": {
        "id": "oUtUiAqBjQMw",
        "pycharm": {
          "name": "#%%\n"
        }
      },
      "source": [
        "# define cost function with sigmoid function\n",
        "def cost(theta, X, y):\n",
        "  m = X.shape[0]\n",
        "  h = sigmoid(np.matmul(X,theta))\n",
        "  cost = (np.matmul(-y.T,np.log(h)) - np.matmul((1-y.T), np.log(1-h)))/m\n",
        "\n",
        "    #########################################################################\n",
        "    # Full Mark: 20                                                         # \n",
        "    # TODO:                                                                 #\n",
        "    # 1. implement the cross entropy loss function with sigmoid             #\n",
        "    #########################################################################\n",
        "    \n",
        "    #########################################################################\n",
        "    #                       END OF YOUR CODE                                #\n",
        "    #########################################################################\n",
        "  return cost"
      ],
      "execution_count": 18,
      "outputs": []
    },
    {
      "cell_type": "markdown",
      "metadata": {
        "id": "fw9RGgRojgzY"
      },
      "source": [
        "calculate gradients\n",
        "________________"
      ]
    },
    {
      "cell_type": "code",
      "metadata": {
        "id": "shm404iFjQM5",
        "pycharm": {
          "name": "#%%\n"
        }
      },
      "source": [
        "# the gradient of the cost is a vector of the same length as θ where the jth element (for j = 0, 1, . . . , n)\n",
        "def gradient(theta, X, y):\n",
        "  m = X.shape[0]\n",
        "  h = sigmoid(np.matmul(X, theta))\n",
        "  grad = np.matmul(X.T, (h-y)) / m\n",
        "  #theta = theta - alpha * grad\n",
        "    #########################################################################\n",
        "    # Full Mark: 20                                                         # \n",
        "    # TODO:                                                                 #\n",
        "    # 1. calculate the gradients using theta and sigmoid                    #\n",
        "    # Hint: X may need to be transposed to do matrix operation              #\n",
        "    #########################################################################\n",
        "    \n",
        "     \n",
        "    #########################################################################\n",
        "    #                       END OF YOUR CODE                                #\n",
        "    #########################################################################\n",
        "  return grad"
      ],
      "execution_count": 17,
      "outputs": []
    },
    {
      "cell_type": "code",
      "metadata": {
        "id": "4-hauHHLLyh-"
      },
      "source": [
        "# predict for new X\n",
        "def predict(theta, X):\n",
        "    #########################################################################\n",
        "    # Full Mark: 15                                                         # \n",
        "    # TODO:                                                                 #\n",
        "    # 1. predict the value using theta and sigmoid                          #\n",
        "    # 2. convert the predicted value to 0/1                                 #\n",
        "    # That's how it is called Logistic regression                           #\n",
        "    #########################################################################\n",
        "    h = sigmoid(np.matmul(X, theta))\n",
        "    predict_labels =  (h > 0.5).astype(int)\n",
        "    #########################################################################\n",
        "    #                       END OF YOUR CODE                                #\n",
        "    #########################################################################\n",
        "\n",
        "    return predict_labels"
      ],
      "execution_count": 32,
      "outputs": []
    },
    {
      "cell_type": "code",
      "metadata": {
        "id": "ixEjN3TbwiPS"
      },
      "source": [
        "# calculate accuracy\n",
        "def accurate(predictions, y):\n",
        "    #########################################################################\n",
        "    # Full Mark: 10                                                         # \n",
        "    # TODO:                                                                 #\n",
        "    # 1. calculate the accuracy value                                       #\n",
        "    # Note that you coud not import extra library                           #\n",
        "    #########################################################################\n",
        "    True_pred  = (predictions & y).astype(int)\n",
        "    total_TP = np.count_nonzero(True_pred ==1)\n",
        "    total_pred = predictions.shape[0]\n",
        "    accuracy_score = total_TP/total_pred\n",
        "    #########################################################################\n",
        "    #                       END OF YOUR CODE                                #\n",
        "    #########################################################################\n",
        "    return accuracy_score"
      ],
      "execution_count": 33,
      "outputs": []
    },
    {
      "cell_type": "markdown",
      "metadata": {
        "id": "oXGba_YxMe3-"
      },
      "source": [
        "Calling functions\n",
        "________"
      ]
    },
    {
      "cell_type": "code",
      "metadata": {
        "id": "DAg50iSeMbdz"
      },
      "source": [
        "result = opt.fmin_tnc(func=cost, x0=theta, fprime=gradient, args=(x, y))\n",
        "final_theta = result[0]\n",
        "final_cost = cost(final_theta, x, y)\n",
        "predictions = predict(final_theta, x)\n",
        "accuracy = accurate(predictions, y)"
      ],
      "execution_count": 34,
      "outputs": []
    },
    {
      "cell_type": "code",
      "metadata": {
        "id": "ButrhJxIuyqj",
        "colab": {
          "base_uri": "https://localhost:8080/"
        },
        "outputId": "adc119a4-5479-4285-906e-622365dd922e"
      },
      "source": [
        "print(\"final cost is \" + str(final_cost))\n",
        "print(\"accuracy is \" + str(accuracy))"
      ],
      "execution_count": 35,
      "outputs": [
        {
          "output_type": "stream",
          "text": [
            "final cost is 0.05171994454250319\n",
            "accuracy is 0.5\n"
          ],
          "name": "stdout"
        }
      ]
    },
    {
      "cell_type": "markdown",
      "metadata": {
        "id": "5oqofQH5OKuj"
      },
      "source": [
        "**Decsion boudary** "
      ]
    },
    {
      "cell_type": "code",
      "metadata": {
        "id": "EBJmxm-Y4USK"
      },
      "source": [
        "    #########################################################################\n",
        "    # Full Mark: 15                                                         # \n",
        "    # TODO:                                                                 #\n",
        "    # 1. plot the decision boudary on the raw data                          #\n",
        "    # 2. set title for the plot                                             #\n",
        "    # 3. set label for x,y axis                                             #\n",
        "    # Note, this scatter plot has two different type of points              #\n",
        "    #########################################################################\n",
        "\n",
        "\n",
        "    #########################################################################\n",
        "    #                       END OF YOUR CODE                                #\n",
        "    #########################################################################\n",
        "\n",
        "    # show plot\n",
        "    \n",
        "    plt.show()"
      ],
      "execution_count": null,
      "outputs": []
    }
  ]
}