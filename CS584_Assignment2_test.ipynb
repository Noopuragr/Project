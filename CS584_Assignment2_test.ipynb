{
  "nbformat": 4,
  "nbformat_minor": 0,
  "metadata": {
    "colab": {
      "name": "CS584_Assignment2(5).ipynb",
      "provenance": [],
      "collapsed_sections": []
    },
    "kernelspec": {
      "name": "python3",
      "language": "python",
      "display_name": "Python 3"
    },
    "pycharm": {
      "stem_cell": {
        "cell_type": "raw",
        "source": [],
        "metadata": {
          "collapsed": false
        }
      }
    }
  },
  "cells": [
    {
      "cell_type": "markdown",
      "metadata": {
        "id": "8iwaee_T-Urj"
      },
      "source": [
        "# Assignment 2 - Logistic Regression\n",
        "> **FULL MARKS = 10**\n",
        "\n",
        "In this assignment, you are going to implement your own logistic Regression function. Please notice **no** library versions of logistic regression are allowed. Follow the instructions, you will need to fill the blanks to make it functional. The process is similar to the previous assignment. "
      ]
    },
    {
      "cell_type": "markdown",
      "metadata": {
        "id": "FWwuN_B5D73w"
      },
      "source": [
        "***Initialization***"
      ]
    },
    {
      "cell_type": "markdown",
      "metadata": {
        "id": "-H_r0Tz6gu4c"
      },
      "source": [
        "*No more library allowed*"
      ]
    },
    {
      "cell_type": "code",
      "metadata": {
        "id": "9M1DAu9XPY8E"
      },
      "source": [
        "# load required library\n",
        "import matplotlib.pyplot as plt\n",
        "import numpy as np\n",
        "from sklearn.datasets import load_iris\n",
        "import scipy.optimize as opt"
      ],
      "execution_count": 168,
      "outputs": []
    },
    {
      "cell_type": "markdown",
      "metadata": {
        "id": "4LdQ5yubLJld"
      },
      "source": [
        "Load data *(Do not modify)*\n",
        "_________\n",
        "\n",
        "We use 100 samples and 2 features. \n"
      ]
    },
    {
      "cell_type": "code",
      "metadata": {
        "pycharm": {
          "name": "#%%\n"
        },
        "id": "ipOG3LQfjQMh"
      },
      "source": [
        "x, y = load_iris(return_X_y=True)"
      ],
      "execution_count": 169,
      "outputs": []
    },
    {
      "cell_type": "code",
      "metadata": {
        "id": "7EpIS82ED4vr"
      },
      "source": [
        "x=x[:100, :2] # class 0 and 1 balanced\r\n",
        "y=y[:100]"
      ],
      "execution_count": 170,
      "outputs": []
    },
    {
      "cell_type": "markdown",
      "metadata": {
        "collapsed": false,
        "id": "33XtealSjQMk"
      },
      "source": [
        "**Visualize data**\n",
        "___________"
      ]
    },
    {
      "cell_type": "code",
      "metadata": {
        "id": "V5KwBYiT-J3x"
      },
      "source": [
        "# draw raw data\r\n",
        "def draw_data(x,y):\r\n",
        "  fig, ax = plt.subplots()\r\n",
        "  mark = ['x','.']\r\n",
        "  labels = ['class 0', 'class 1']\r\n",
        "  color = ['red','blue']\r\n",
        "  for g in np.unique(y):\r\n",
        "      ix = np.where(y == g)\r\n",
        "      ax.scatter(x[ix,0], x[ix,1], label = g, s = 100, marker=mark[g],c = color[g])\r\n",
        "  ax.legend(labels)\r\n",
        "  plt.xlabel('xlabel')\r\n",
        "  plt.ylabel('ylabel')\r\n",
        "  plt.title('title',fontsize = 20,pad = 20)\r\n",
        "  plt.show()\r\n",
        "    \r\n",
        "    #########################################################################\r\n",
        "    # Full Mark: 1                                                          #    \r\n",
        "    # TODO:                                                                 #\r\n",
        "    # 1. make a scatter plot of the raw data                                #\r\n",
        "    # 2. set title for the plot                                             #\r\n",
        "    # 3. set label for x,y axis                                             #\r\n",
        "    # Note, this scatter plot has two different type of points              #\r\n",
        "    #########################################################################\r\n",
        "\r\n",
        "\r\n",
        "\r\n",
        "    #########################################################################\r\n",
        "    #                       END OF YOUR CODE                                #\r\n",
        "    #########################################################################\r\n",
        "\r\n",
        "    # show plot\r\n"
      ],
      "execution_count": 171,
      "outputs": []
    },
    {
      "cell_type": "markdown",
      "metadata": {
        "id": "6jyZEY2f-ZlQ"
      },
      "source": [
        "Your plot should be similar to the example below"
      ]
    },
    {
      "cell_type": "code",
      "metadata": {
        "id": "0X1EdMDdMpHR",
        "colab": {
          "base_uri": "https://localhost:8080/",
          "height": 314
        },
        "outputId": "4131e8dd-dc6a-4c76-d36b-9d77579fa024"
      },
      "source": [
        "draw_data(x,y)"
      ],
      "execution_count": 172,
      "outputs": [
        {
          "output_type": "display_data",
          "data": {
            "image/png": "[encoded data removed]",
            "text/plain": [
              "<Figure size 432x288 with 1 Axes>"
            ]
          },
          "metadata": {
            "tags": [],
            "needs_background": "light"
          }
        }
      ]
    },
    {
      "cell_type": "markdown",
      "metadata": {
        "id": "sknkLiYZjaJo"
      },
      "source": [
        "**Sigmoid function**\n",
        "________________"
      ]
    },
    {
      "cell_type": "code",
      "metadata": {
        "id": "wszqzBT9xRgj"
      },
      "source": [
        "# please do not modify this cell\r\n",
        "x = np.concatenate((np.array([np.ones(len(y))]).T, x), axis=1)\r\n",
        "theta = np.zeros(x.shape[1])"
      ],
      "execution_count": 173,
      "outputs": []
    },
    {
      "cell_type": "code",
      "metadata": {
        "colab": {
          "base_uri": "https://localhost:8080/"
        },
        "id": "XRbQlIUGgckM",
        "outputId": "fdbf5f19-228a-4501-e6d9-45245cd99e9d"
      },
      "source": [
        "x[:3]"
      ],
      "execution_count": 174,
      "outputs": [
        {
          "output_type": "execute_result",
          "data": {
            "text/plain": [
              "array([[1. , 5.1, 3.5],\n",
              "       [1. , 4.9, 3. ],\n",
              "       [1. , 4.7, 3.2]])"
            ]
          },
          "metadata": {
            "tags": []
          },
          "execution_count": 174
        }
      ]
    },
    {
      "cell_type": "markdown",
      "metadata": {
        "id": "qfM7gVinsixJ"
      },
      "source": [
        "**You can decide by yourselves whether to split the dataset to training and testing. The training and testing datasets spliting is not a part of the assignment 2 as you have done that in assignmnet 1. Without spliting, you can just report the accuracy on training dataset. **"
      ]
    },
    {
      "cell_type": "code",
      "metadata": {
        "pycharm": {
          "name": "#%%\n"
        },
        "id": "AsCvUXe1jQMq"
      },
      "source": [
        "# define sigmoid function\n",
        "# math: refer to https://en.wikipedia.org/wiki/Sigmoid_function or slides\n",
        "def sigmoid(theta, X):\n",
        "  h = np.dot(X, theta)\n",
        "  s = 1/ (1 + np.exp(-h))\n",
        "    #########################################################################\n",
        "    # FullS  Mark: 1                                                          # \n",
        "    # TODO:                                                                 #\n",
        "    # 1. implement the sigmoid function over input theta and X\n",
        "    #########################################################################\n",
        "    #########################################################################\n",
        "    #                       END OF YOUR CODE                                #\n",
        "    #########################################################################\n",
        "    \n",
        "  return s"
      ],
      "execution_count": 175,
      "outputs": []
    },
    {
      "cell_type": "markdown",
      "metadata": {
        "id": "4Layck69jdEU"
      },
      "source": [
        "**Cost function**\n",
        "____________"
      ]
    },
    {
      "cell_type": "code",
      "metadata": {
        "pycharm": {
          "name": "#%%\n"
        },
        "id": "oUtUiAqBjQMw"
      },
      "source": [
        "# define cost function with sigmoid function\n",
        "def cost(theta, X, y):\n",
        "  #m = X.shape[0]\n",
        "  #h = sigmoid(theta,X)\n",
        "  #co = (np.matmul(-y.T,np.log(h)) - np.matmul((1-y.T), np.log(1-h)))/m\n",
        "  m = x.shape[0]\n",
        "  total_cost = -(1 / m) * np.sum(\n",
        "  y * np.log(sigmoid(theta, x)) + (1 - y) * np.log(\n",
        "            1 - sigmoid(theta, x)))\n",
        "  return total_cost\n",
        "\n",
        "\n",
        "    #########################################################################\n",
        "    # Full Mark: 2                                                          # \n",
        "    # TODO:                                                                 #\n",
        "    # 1. implement the cross entropy loss function with sigmoid             #\n",
        "    #########################################################################\n",
        "    \n",
        "    #########################################################################\n",
        "    #                       END OF YOUR CODE                                #\n",
        "    #########################################################################\n",
        "#  return co"
      ],
      "execution_count": 176,
      "outputs": []
    },
    {
      "cell_type": "markdown",
      "metadata": {
        "id": "fw9RGgRojgzY"
      },
      "source": [
        "**Calculate gradients**\n",
        "________________"
      ]
    },
    {
      "cell_type": "code",
      "metadata": {
        "pycharm": {
          "name": "#%%\n"
        },
        "id": "shm404iFjQM5"
      },
      "source": [
        "# the gradient of the cost is a vector of the same length as θ where the jth element (for j = 0, 1, . . . , n)\n",
        "def gradient(theta, X, y):\n",
        "  m = X.shape[0]\n",
        "  return (1 / m) * np.dot(x.T, sigmoid(theta,   X) - y)\n",
        "    #########################################################################\n",
        "    # Full Mark: 2                                                          # \n",
        "    # TODO:                                                                 #\n",
        "    # 1. calculate the gradients using theta and sigmoid                    #\n",
        "    # Hint: X may need to be transposed to do matrix operation              #\n",
        "    #########################################################################\n",
        "    \n",
        "    #########################################################################\n",
        "    #                       END OF YOUR CODE                                #\n",
        "    #########################################################################\n",
        "  return grad"
      ],
      "execution_count": 177,
      "outputs": []
    },
    {
      "cell_type": "markdown",
      "metadata": {
        "id": "TzEZlyZjtYDJ"
      },
      "source": [
        "**Predicting**\n",
        "________________"
      ]
    },
    {
      "cell_type": "code",
      "metadata": {
        "id": "4-hauHHLLyh-"
      },
      "source": [
        "# predict for new X\n",
        "def predict(theta, X):\n",
        "  h = sigmoid(theta, X)\n",
        "  predict_labels = np.round(h).astype(int)\n",
        "    #########################################################################\n",
        "    # Full Mark: 1                                                          # \n",
        "    # TODO:                                                                 #\n",
        "    # 1. predict the value using theta and sigmoid                          #\n",
        "    # 2. convert the predicted value to 0/1                                 #\n",
        "    # That's how it is called Logistic regression                           #\n",
        "    #########################################################################\n",
        "    \n",
        "    #########################################################################\n",
        "    #                       END OF YOUR CODE                                #\n",
        "    #########################################################################\n",
        "\n",
        "  return predict_labels"
      ],
      "execution_count": 178,
      "outputs": []
    },
    {
      "cell_type": "markdown",
      "metadata": {
        "id": "nN9AOS3UtYsr"
      },
      "source": [
        "**Calculate accuracy**\n",
        "________________"
      ]
    },
    {
      "cell_type": "code",
      "metadata": {
        "id": "ixEjN3TbwiPS"
      },
      "source": [
        "# calculate accuracy\r\n",
        "def accurate(predictions, y):\r\n",
        "\r\n",
        "  accuracy_score = np.mean(predictions == y) * 100\r\n",
        "    #########################################################################\r\n",
        "    # Full Mark: 1                                                          # \r\n",
        "    # TODO:                                                                 #\r\n",
        "    # 1. calculate the accuracy value                                       #\r\n",
        "    # Note that you coud not import extra library                           #\r\n",
        "    #########################################################################\r\n",
        "    \r\n",
        "    #########################################################################\r\n",
        "    #                       END OF YOUR CODE                                #\r\n",
        "    #########################################################################\r\n",
        "  return accuracy_score"
      ],
      "execution_count": 179,
      "outputs": []
    },
    {
      "cell_type": "markdown",
      "metadata": {
        "id": "oXGba_YxMe3-"
      },
      "source": [
        "**Calling functions**\n",
        "________"
      ]
    },
    {
      "cell_type": "code",
      "metadata": {
        "id": "DAg50iSeMbdz",
        "colab": {
          "base_uri": "https://localhost:8080/"
        },
        "outputId": "92a820a1-0012-4179-9d73-1f1ead7701c3"
      },
      "source": [
        "# please do not modify this cell\n",
        "result = opt.fmin_tnc(func=cost, x0=theta, fprime=gradient, args=(x, y))\n",
        "final_theta = result[0]\n",
        "final_cost = cost(final_theta, x, y)\n",
        "predictions = predict(final_theta, x)\n",
        "accuracy = accurate(predictions, y)\n",
        "print(\"final cost is \" + str(final_cost))\n",
        "print(\"accuracy is \" + str(accuracy))"
      ],
      "execution_count": 180,
      "outputs": [
        {
          "output_type": "stream",
          "text": [
            "final cost is 0.05171662372341682\n",
            "accuracy is 99.0\n"
          ],
          "name": "stdout"
        },
        {
          "output_type": "stream",
          "text": [
            "/usr/local/lib/python3.7/dist-packages/ipykernel_launcher.py:9: RuntimeWarning: divide by zero encountered in log\n",
            "  if __name__ == '__main__':\n",
            "/usr/local/lib/python3.7/dist-packages/ipykernel_launcher.py:9: RuntimeWarning: invalid value encountered in multiply\n",
            "  if __name__ == '__main__':\n"
          ],
          "name": "stderr"
        }
      ]
    },
    {
      "cell_type": "code",
      "metadata": {
        "colab": {
          "base_uri": "https://localhost:8080/"
        },
        "id": "9CNUSEnvqBad",
        "outputId": "fe99a58e-7d3d-4b27-e8e9-651989a7f44b"
      },
      "source": [
        "final_theta"
      ],
      "execution_count": 181,
      "outputs": [
        {
          "output_type": "execute_result",
          "data": {
            "text/plain": [
              "array([-2.06867851,  5.37100882, -8.72280789])"
            ]
          },
          "metadata": {
            "tags": []
          },
          "execution_count": 181
        }
      ]
    },
    {
      "cell_type": "markdown",
      "metadata": {
        "id": "5oqofQH5OKuj"
      },
      "source": [
        "**Decsion boudary** "
      ]
    },
    {
      "cell_type": "code",
      "metadata": {
        "id": "EBJmxm-Y4USK"
      },
      "source": [
        "# draw decision boudary\r\n",
        "def draw_decision_boudary(final_theta,x,y):\r\n",
        "\r\n",
        "  plt.show()"
      ],
      "execution_count": 182,
      "outputs": []
    },
    {
      "cell_type": "markdown",
      "metadata": {
        "id": "PkIodLiurfW-"
      },
      "source": [
        "Your plot should be similar to the example below"
      ]
    },
    {
      "cell_type": "code",
      "metadata": {
        "id": "ButrhJxIuyqj"
      },
      "source": [
        "draw_decision_boudary(final_theta,x,y)"
      ],
      "execution_count": 183,
      "outputs": []
    }
  ]
}